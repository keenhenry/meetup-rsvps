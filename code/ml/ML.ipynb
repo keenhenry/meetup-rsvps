{
 "cells": [
  {
   "cell_type": "markdown",
   "metadata": {},
   "source": [
    "## Dataset\n",
    "\n",
    "Dataset is from Meetup RSVP streaming API. Each observation is a users response rsvp=yes/no to a certain event hosted by a certain group, which is associated with various tags (called urlkey)\n",
    "\n",
    "See diagram below:\n",
    "\n",
    "![](img/datamodel-crop.png)"
   ]
  },
  {
   "cell_type": "markdown",
   "metadata": {},
   "source": [
    "### Sample Data\n",
    "\n",
    "We have real-time streamed rsvp data with the following information:\n",
    "\n",
    "| event_name    | group_name    | urlkey| response |\n",
    "| ------------- |:-------------:|:-----:|---------:|\n",
    "| Nine Famous Graphs and How to Make them Interactive     | SF Data Science | [data-science, big-data, data-visualization, data-mining, machine-learning, big-data-analytics, softwaredev, data-analytics, data-scientist, python, open-data, mapreduce, real-time-analytics, data-journalism, data] | yes |\n",
    "|Steilacoom Guided Walk 5 or 10km - Traditional Volksmarch            |South Sound Walkers Meetup Group|[walkers, volkssport, fitness, outdoors] | yes |\n",
    "|Business Event:  Speed Networking at Magnolia's Pub                  |Jacksonville Young Professionals|[diningout, women, outdoors, travel, newintown, fun-times, young-professionals, professional-networking, business-entrepreneur-networking, small-business-networking, adventure, bucket-list, social, weekend-adventures, professional]        | no |"
   ]
  },
  {
   "cell_type": "markdown",
   "metadata": {},
   "source": [
    "## Problem Definition\n",
    "\n",
    "The goal of this experiment is to use ML to categorzie the groups into clusters, then potentially apply supervised learning models to classify future rsvp feeds.\n",
    "\n",
    "The intuition is, each event/group is related to particular topic category, e.g. outdoor activities, tech (since it's SF), sports, culture, etc. Groups similarity can be defined after studying urlkeys, as urlkeys are more likely to overlap within similar groups."
   ]
  },
  {
   "cell_type": "markdown",
   "metadata": {},
   "source": [
    "## Model Selection\n",
    "\n",
    "There're two selection involved in the process. \n",
    "\n",
    "* First, choose a proper distance metric to best model similarity between observations\n",
    "* Second, choose a clustering model to fit_predict using selected distance metric\n",
    "\n",
    "### Distance Metrics\n",
    "Considered existing distance metric:\n",
    "* cityblock (L1)\n",
    "* hamming\n",
    "* jaccard\n",
    "\n",
    "__jaccard__ Distance Metric will minimize the impact of dimenssionality curse, because it is a \"bit-wise similarity distance\" metric, range from [0,1], where 0 being identical and 1 being most remote. In particular, it computes:\n",
    "\n",
    "$$distance = \\frac{NNEQ}{NNZ}$$ where $NNEQ$ is number of non-equal dimensions and $NNZ$ is number of nonzero dimensions\n",
    "\n",
    "The particular challenge of this dataset is, the overall average # of urlkeys per group is relatively high (10+), and total # of unique urlkeys is 5000+ (sparse matrix)\n",
    "\n",
    "![](img/urlkeys_count.png)\n",
    "\n",
    "It's fairly vulnerable to curse of dimenssionaltiy. __jaccard__ distance metric will consider \"non-intersect\" over \"union length\", which is a good mesurement of similarity and free of the curse.\n",
    "\n",
    "### Clustering Model\n",
    "\n",
    "For clustering task, the idea is to use urlkey (as tags) to infer a group association. However, the challenge is, flatening each observation's urlkeys will generate a high dimenssion training dataset (# of dimenssion = # of unique urlkeys), where the real meaning of distance will be weakened and subject to the curse (not as much since we're talking about binary values, but the curse is still there)\n",
    "\n",
    "The clustering models available for selection is:\n",
    "* K-means\n",
    "* DBSCAN\n",
    "* Hierarchical Clustering\n",
    "\n",
    "Among the above, __Hierarchical Clustering__ is chosen as clustering model, with __jaccard__ Distance Metric. \n",
    "\n",
    "The reason behind choosing hierarchical clustering is because the way hierarchical clustering works. It relies on various distance metrics to decide neighbourhood (pairwise distance), with the objective function to minimize the inter-cluster distance (refer to hierarchical clustering pseudo code for detail). The way it works makes intuitive sense because we don't need random start point as oppose to K-means and more importantly we can control to truncate the height of hierarchical tree at the desired level of generalization judged from plotted dendrogram.\n",
    "\n",
    "The following shows the difference between `linkage='complete'` and `linkage='average'`. The difference is the way to compute cluster merging criteria:\n",
    "* `linkage='complete'` will look at max distance between two clusters, to decide merge\n",
    "* `linkage='average'` will look at average distance between two clusters, to decide merge\n",
    "\n",
    "The former tends to introduce fewer imbalance sized clusters, while latter tends to have more small clusters. The reason being ..........\n",
    "\n",
    "![](img/complete_jaccard_1000.png)\n",
    "\n",
    "![](img/average_jaccard_1000.png)\n",
    "\n",
    "The result of each is show as below.\n",
    "\n",
    "...\n",
    "...\n",
    "...\n",
    "\n",
    "In comparison, a second clustering model of __DBSCAN__ with __jaccard__ distance metrc is experimeted.\n",
    "\n",
    "\n",
    "WARNING: \n",
    "\n",
    "The initial chosen clustering model is __AgglomerativeClustering__, until I discovered that sklearn AgglomerativeClustering `affinity='jaccard'` is using `scipy.distance.pdist()` to compute `jaccard` distance, which computes positional \"bit wise\" distance between `u[i]` and `v[i]`. It is not the same as `sklearn.neighbor.DistanceMetric` implementation as illustrated above. \n",
    "\n",
    "To fix,following options are available:\n",
    "* change source code of `scipy.cluster.hierarchy.py >>> line 671`\n",
    "* precompute distance matrix and use AgglomerativeClustering `affinity='precomputed'` option\\\n",
    "* use other method like dendrogram with precomputed distance matrix\n"
   ]
  },
  {
   "cell_type": "markdown",
   "metadata": {},
   "source": [
    "## Next Steps\n",
    "\n",
    "### Classification Model\n",
    "\n",
    "Since Clustering Model will generate 1 cluster label per observation, we can train a Classification Model to predict cluster label from given text or other features from observation.\n",
    "\n",
    "The requirement is:\n",
    "* multiple classes classification\n",
    "* natual language text as features >> potentially high dimenssion\n",
    "* preferably to be able to execute in parallel\n",
    "\n",
    "Out of the above requirement, ensemble model is proposed, in particular, __RandomForestClassifier__ because it is easier to parallelize execution and it fulfills the above requirement:\n",
    "* it can handle multiple classes classification\n",
    "* able to handle high dimenssion because the splitting is not based on pair-wise distance, but on impurity score\n",
    "* natual language text can be vectorized using TF-IDF or other method\n",
    "* it is embarassingly parallel"
   ]
  },
  {
   "cell_type": "code",
   "execution_count": 1,
   "metadata": {
    "collapsed": true
   },
   "outputs": [],
   "source": [
    "reset -fs"
   ]
  },
  {
   "cell_type": "code",
   "execution_count": 2,
   "metadata": {
    "collapsed": true
   },
   "outputs": [],
   "source": [
    "import json\n",
    "from sklearn.cluster import AgglomerativeClustering\n",
    "import numpy as np\n",
    "from pyspark.sql.functions import explode, monotonically_increasing_id\n",
    "import pandas as pd\n",
    "from sklearn.feature_extraction.text import CountVectorizer\n",
    "from scipy.sparse import csr_matrix\n",
    "import time\n",
    "from collections import Counter\n",
    "from sklearn.externals import joblib"
   ]
  },
  {
   "cell_type": "code",
   "execution_count": 3,
   "metadata": {
    "collapsed": true
   },
   "outputs": [],
   "source": [
    "pd.set_option('display.max_colwidth', 100)"
   ]
  },
  {
   "cell_type": "code",
   "execution_count": 17,
   "metadata": {
    "collapsed": true
   },
   "outputs": [],
   "source": [
    "N_SAMPLES = 1000"
   ]
  },
  {
   "cell_type": "code",
   "execution_count": 31,
   "metadata": {
    "collapsed": true
   },
   "outputs": [],
   "source": [
    "raw_json_rsvps = sc.textFile(\"../../data/export/2017/04/*/*/*\").cache()"
   ]
  },
  {
   "cell_type": "code",
   "execution_count": 35,
   "metadata": {},
   "outputs": [
    {
     "data": {
      "text/plain": [
       "pyspark.rdd.RDD"
      ]
     },
     "execution_count": 35,
     "metadata": {},
     "output_type": "execute_result"
    }
   ],
   "source": [
    "type(raw_json_rsvps)"
   ]
  },
  {
   "cell_type": "code",
   "execution_count": 32,
   "metadata": {
    "collapsed": true
   },
   "outputs": [],
   "source": [
    "def transform_rsvp(rsvp):\n",
    "    \"\"\"transform json rsvp into tuple: (event_name, group_name, urlkeys, all_text, response), where:\n",
    "    - event_name: text description of event_name\n",
    "    - group_name: text description of group_name\n",
    "    - urlkeys: list of urlkey strings (e.g. ['data-science','machine-learning','networking'])\n",
    "    - all_text: all the above concatenate together, with space deliminated\n",
    "    - response: 'yes' or 'no'\n",
    "    \"\"\"\n",
    "    try:\n",
    "        rsvp = json.loads(rsvp)\n",
    "        urlkeys = [topic['urlkey'] for topic in rsvp.get('group', {}).get('group_topics',[])]\n",
    "        event_name = rsvp.get('event',{}).get('event_name', None)\n",
    "        group_name = rsvp.get('group',{}).get('group_name', None)\n",
    "        response = 1 if rsvp.get('response', 'no') == 'yes' else 0\n",
    "        all_text = event_name + group_name + ' '.join(urlkeys)\n",
    "        return (event_name, group_name, urlkeys, all_text, response)\n",
    "    except ValueError:\n",
    "        return None"
   ]
  },
  {
   "cell_type": "code",
   "execution_count": 33,
   "metadata": {
    "collapsed": true
   },
   "outputs": [],
   "source": [
    "# read all raw json files, transform it, and load into dataframe\n",
    "df = raw_json_rsvps.map(transform_rsvp) \\\n",
    "                   .filter(lambda record: record is not None) \\\n",
    "                   .toDF(['event_name','group_name', 'urlkeys', 'all_text', 'response']) \\\n",
    "                   .cache()"
   ]
  },
  {
   "cell_type": "code",
   "execution_count": 34,
   "metadata": {},
   "outputs": [
    {
     "name": "stdout",
     "output_type": "stream",
     "text": [
      "+--------------------+--------------------+--------------------+--------------------+--------+\n",
      "|          event_name|          group_name|             urlkeys|            all_text|response|\n",
      "+--------------------+--------------------+--------------------+--------------------+--------+\n",
      "|Nine Famous Graph...|     SF Data Science|[data-science, bi...|Nine Famous Graph...|       1|\n",
      "|Steilacoom Guided...|South Sound Walke...|[walkers, volkssp...|Steilacoom Guided...|       1|\n",
      "|Wednesday Game 6 ...|Football Enthusiasts|[soccer, pickupso...|Wednesday Game 6 ...|       1|\n",
      "|Back in Rosebank ...|Lean Analytics – ...|[machine-learning...|Back in Rosebank ...|       0|\n",
      "|HackerNest Phoeni...|HackerNest Phoeni...|[opensource, webd...|HackerNest Phoeni...|       1|\n",
      "|Don Robinson Stat...|      Let's Hike....|[outdoor-adventur...|Don Robinson Stat...|       1|\n",
      "|Steilacoom Guided...|South Sound Walke...|[walkers, volkssp...|Steilacoom Guided...|       1|\n",
      "|Free 2 Days Works...|Hyderabad IIM Asp...|[education, mba-a...|Free 2 Days Works...|       1|\n",
      "|☆Nihongo Night (F...|Japanese Conversa...|[newintown, expat...|☆Nihongo Night (F...|       1|\n",
      "|Business Event:  ...|Jacksonville Youn...|[diningout, women...|Business Event:  ...|       1|\n",
      "+--------------------+--------------------+--------------------+--------------------+--------+\n",
      "only showing top 10 rows\n",
      "\n"
     ]
    }
   ],
   "source": [
    "df.show(10)"
   ]
  },
  {
   "cell_type": "code",
   "execution_count": 8,
   "metadata": {
    "collapsed": true
   },
   "outputs": [],
   "source": [
    "# use only urlkeys column, extract each unique urlkey, assign with a integer id\n",
    "topics = df.select(explode(df.urlkeys).alias(\"urlkey\")).distinct()\n",
    "urlkeys = topics.withColumn(\"id\", monotonically_increasing_id())"
   ]
  },
  {
   "cell_type": "code",
   "execution_count": 9,
   "metadata": {},
   "outputs": [
    {
     "data": {
      "text/plain": [
       "17886"
      ]
     },
     "execution_count": 9,
     "metadata": {},
     "output_type": "execute_result"
    }
   ],
   "source": [
    "# convert to json dictionary, as a [urlkey --> id] fast lookup tool\n",
    "urlkeymap = urlkeys.rdd.collectAsMap()\n",
    "len(urlkeymap)"
   ]
  },
  {
   "cell_type": "code",
   "execution_count": 10,
   "metadata": {},
   "outputs": [
    {
     "data": {
      "text/plain": [
       "0    [data-science, big-data, data-visualization, data-mining, machine-learning, big-data-analytics, ...\n",
       "1                                                               [walkers, volkssport, fitness, outdoors]\n",
       "2               [soccer, pickupsoccer, eurofootball, indoor-soccer, coed-soccer, outdoor-soccer, futbol]\n",
       "3    [machine-learning, predictive-analytics, data-science, data-mining, big-data-analytics, educatio...\n",
       "4    [opensource, webdesign, softwaredev, newtech, technology, information-technology, web-developmen...\n",
       "5    [outdoor-adventures, outdoors, hiking, kayaking, adventure, nature-photography, nature-walks, we...\n",
       "6                                                               [walkers, volkssport, fitness, outdoors]\n",
       "7    [education, mba-applications, gmat-test-prep-and-tutoring, mba-schools-and-programs, gmat-study-...\n",
       "8    [newintown, expatjapanese, socialnetwork, culture-exchange, language, japanese-language, japanes...\n",
       "9    [diningout, women, outdoors, travel, newintown, fun-times, young-professionals, professional-net...\n",
       "Name: urlkeys, dtype: object"
      ]
     },
     "execution_count": 10,
     "metadata": {},
     "output_type": "execute_result"
    }
   ],
   "source": [
    "# convert spark dataframe to pandas\n",
    "pdf = df.toPandas()\n",
    "pdf.urlkeys[:10]"
   ]
  },
  {
   "cell_type": "code",
   "execution_count": 12,
   "metadata": {},
   "outputs": [
    {
     "data": {
      "text/plain": [
       "array([[],\n",
       "       ['10k', 'walkers', 'half-marathon', 'beginners-running', 'running', 'group-fitness-training', 'marathon', '5k', 'how-to-train-for-a-5k-race', 'fitness-for-a-healthy-lifestyle', 'track-workouts-for-men-and-women', 'strength-conditioning', 'strength-training-for-runners', 'clinics-for-running'],\n",
       "       ['10k', 'walkers', 'running', 'half-marathon', 'beginners-running', 'marathon', '5k', 'how-to-train-for-a-5k-race', 'how-to-train-for-a-10-mile-race', 'fitness-for-a-healthy-lifestyle', 'track-workouts-for-men-and-women', 'strength-conditioning', 'clinics-for-running', 'strength-training-for-runners'],\n",
       "       ['20-somethings', '20s', '20s-social', 'social', 'newintown', 'pubs-bars', 'fun-times', 'game-night', 'movie-nights', 'nightlife', 'comedy', 'concerts'],\n",
       "       ['20-somethings', 'young-professionals', 'young-adults', '20s-and-30s', '20s-social', 'newintown', 'nightlife', 'social', '20s-30s-social', 'board-games', '20s', 'couples-20s-and-30s'],\n",
       "       ['20s', 'twenty-somethings', 'young-professionals', 'going-out-in-brooklyn', 'williamsburg-brooklyn', 'brooklyn', 'pubs-bars', 'newintown', 'young-adults', '20s-social', '20s-and-30s', 'bushwick'],\n",
       "       ['20s', 'young-adults', 'nightlife', 'women', 'girls-having-fun', 'girls-night-out', 'girlfriends', 'african-american-women', 'black-women', 'sisterhood', '20s-social', '20s-women', 'bronx', 'bronx-women', 'bronx-women-21-29'],\n",
       "       ['20s-30s-40s-50s-social', 'outdoors', 'livemusic', 'beach', 'diningout', 'pub-trivia', 'social', 'karaoke', 'sightseeing', 'recreational-sports', 'games', 'local-activities', 'bowling-movies-concerts-and-billiards', 'newintown', 'wine-and-food-pairing', 'nightlife'],\n",
       "       ['20s-30s-social', 'diningout', 'newintown', 'nightlife', 'socialnetwork', 'sports', 'social', 'adventure', 'dating-and-relationships', 'pubs-bars', 'singles', 'dinner-and-a-movie', '20s-and-30s'],\n",
       "       ['20s-30s-social', 'fun-times', 'game-night', 'social', 'outdoor-adventures', 'cardgame', 'socialnetwork', 'games', 'singles-20s-30s', 'gaming', 'board-games', 'strategy-games']], dtype=object)"
      ]
     },
     "execution_count": 12,
     "metadata": {},
     "output_type": "execute_result"
    }
   ],
   "source": [
    "X = np.unique(pdf.urlkeys)\n",
    "X[:10]"
   ]
  },
  {
   "cell_type": "code",
   "execution_count": 15,
   "metadata": {
    "collapsed": true
   },
   "outputs": [],
   "source": [
    "# define vectorizer, to binarize the list of urlkey, explode each row into a binary row vector\n",
    "vectorizer = CountVectorizer(decode_error='ignore', \n",
    "                             analyzer='word', \n",
    "                             preprocessor=lambda urlkeys: ' '.join(urlkeys),\n",
    "                             tokenizer=lambda urlkeys: urlkeys.split(' '),\n",
    "                             stop_words=None, # no stop words\n",
    "                             min_df=1, # min count of 1\n",
    "                             binary=True # count as binary\n",
    "                            )"
   ]
  },
  {
   "cell_type": "code",
   "execution_count": 16,
   "metadata": {},
   "outputs": [
    {
     "ename": "NameError",
     "evalue": "name 'N_SAMPLES' is not defined",
     "output_type": "error",
     "traceback": [
      "\u001b[0;31m---------------------------------------------------------------------------\u001b[0m",
      "\u001b[0;31mNameError\u001b[0m                                 Traceback (most recent call last)",
      "\u001b[0;32m<ipython-input-16-43bec8af0ebe>\u001b[0m in \u001b[0;36m<module>\u001b[0;34m()\u001b[0m\n\u001b[1;32m      1\u001b[0m \u001b[0;32mfrom\u001b[0m \u001b[0msklearn\u001b[0m\u001b[0;34m.\u001b[0m\u001b[0mneighbors\u001b[0m \u001b[0;32mimport\u001b[0m \u001b[0mkneighbors_graph\u001b[0m\u001b[0;34m\u001b[0m\u001b[0m\n\u001b[0;32m----> 2\u001b[0;31m \u001b[0mvectorized_urlkeys\u001b[0m \u001b[0;34m=\u001b[0m \u001b[0mvectorizer\u001b[0m\u001b[0;34m.\u001b[0m\u001b[0mfit_transform\u001b[0m\u001b[0;34m(\u001b[0m\u001b[0mX\u001b[0m\u001b[0;34m[\u001b[0m\u001b[0;34m:\u001b[0m\u001b[0mN_SAMPLES\u001b[0m\u001b[0;34m]\u001b[0m\u001b[0;34m)\u001b[0m\u001b[0;34m\u001b[0m\u001b[0m\n\u001b[0m\u001b[1;32m      3\u001b[0m \u001b[0;31m# connectivity matrix for structured Ward\u001b[0m\u001b[0;34m\u001b[0m\u001b[0;34m\u001b[0m\u001b[0m\n\u001b[1;32m      4\u001b[0m \u001b[0mconnectivity\u001b[0m \u001b[0;34m=\u001b[0m \u001b[0mkneighbors_graph\u001b[0m\u001b[0;34m(\u001b[0m\u001b[0mvectorized_urlkeys\u001b[0m\u001b[0;34m,\u001b[0m \u001b[0mn_neighbors\u001b[0m\u001b[0;34m=\u001b[0m\u001b[0;36m10\u001b[0m\u001b[0;34m,\u001b[0m \u001b[0minclude_self\u001b[0m\u001b[0;34m=\u001b[0m\u001b[0;32mFalse\u001b[0m\u001b[0;34m,\u001b[0m \u001b[0mmetric\u001b[0m\u001b[0;34m=\u001b[0m\u001b[0;34m'cityblock'\u001b[0m\u001b[0;34m)\u001b[0m\u001b[0;34m\u001b[0m\u001b[0m\n\u001b[1;32m      5\u001b[0m \u001b[0;31m# make connectivity symmetric\u001b[0m\u001b[0;34m\u001b[0m\u001b[0;34m\u001b[0m\u001b[0m\n",
      "\u001b[0;31mNameError\u001b[0m: name 'N_SAMPLES' is not defined"
     ]
    }
   ],
   "source": [
    "from sklearn.neighbors import kneighbors_graph\n",
    "vectorized_urlkeys = vectorizer.fit_transform(X[:N_SAMPLES])\n",
    "# connectivity matrix for structured Ward\n",
    "connectivity = kneighbors_graph(vectorized_urlkeys, n_neighbors=10, include_self=False, metric='cityblock')\n",
    "# make connectivity symmetric\n",
    "connectivity = 0.5 * (connectivity + connectivity.T)"
   ]
  },
  {
   "cell_type": "code",
   "execution_count": 20,
   "metadata": {
    "collapsed": true
   },
   "outputs": [],
   "source": [
    "# take top 5000 to train\n",
    "N_SAMPLES = 1000\n",
    "# X_train = pdf.urlkeys[:N_SAMPLES]\n",
    "vectorized_urlkeys = vectorizer.fit_transform(X[:N_SAMPLES])"
   ]
  },
  {
   "cell_type": "code",
   "execution_count": 21,
   "metadata": {},
   "outputs": [
    {
     "data": {
      "text/plain": [
       "(1000, 3056)"
      ]
     },
     "execution_count": 21,
     "metadata": {},
     "output_type": "execute_result"
    }
   ],
   "source": [
    "# show the training data size\n",
    "vectorized_urlkeys.shape"
   ]
  },
  {
   "cell_type": "code",
   "execution_count": 26,
   "metadata": {
    "collapsed": true
   },
   "outputs": [],
   "source": [
    "# train model\n",
    "model = AgglomerativeClustering(n_clusters = 5,  # number of target clusters\n",
    "                                connectivity = None, # our problem is not a graph problem, no connectivity\n",
    "                                affinity='jaccard', # use jaccard distance metric to compute bit-wise similarity\n",
    "                                linkage='complete' # 'ward' is l2 distance, subject to curse\n",
    "                               )"
   ]
  },
  {
   "cell_type": "code",
   "execution_count": 27,
   "metadata": {},
   "outputs": [
    {
     "name": "stdout",
     "output_type": "stream",
     "text": [
      "4.6593849658966064\n"
     ]
    }
   ],
   "source": [
    "t0 = time.time()\n",
    "model.fit(vectorized_urlkeys.todense())\n",
    "elapsed_time = time.time() - t0\n",
    "print(elapsed_time)"
   ]
  },
  {
   "cell_type": "code",
   "execution_count": 28,
   "metadata": {},
   "outputs": [
    {
     "data": {
      "text/plain": [
       "0    [data-science, big-data, data-visualization, data-mining, machine-learning, big-data-analytics, ...\n",
       "1                                                               [walkers, volkssport, fitness, outdoors]\n",
       "2               [soccer, pickupsoccer, eurofootball, indoor-soccer, coed-soccer, outdoor-soccer, futbol]\n",
       "3    [machine-learning, predictive-analytics, data-science, data-mining, big-data-analytics, educatio...\n",
       "4    [opensource, webdesign, softwaredev, newtech, technology, information-technology, web-developmen...\n",
       "5    [outdoor-adventures, outdoors, hiking, kayaking, adventure, nature-photography, nature-walks, we...\n",
       "6                                                               [walkers, volkssport, fitness, outdoors]\n",
       "7    [education, mba-applications, gmat-test-prep-and-tutoring, mba-schools-and-programs, gmat-study-...\n",
       "8    [newintown, expatjapanese, socialnetwork, culture-exchange, language, japanese-language, japanes...\n",
       "9    [diningout, women, outdoors, travel, newintown, fun-times, young-professionals, professional-net...\n",
       "Name: urlkeys, dtype: object"
      ]
     },
     "execution_count": 28,
     "metadata": {},
     "output_type": "execute_result"
    }
   ],
   "source": [
    "# show raw data\n",
    "pdf.urlkeys[:10]"
   ]
  },
  {
   "cell_type": "code",
   "execution_count": 29,
   "metadata": {
    "collapsed": true
   },
   "outputs": [],
   "source": [
    "# print most common keywords within each most common clusters\n",
    "N_TOPIC = 10\n",
    "N_KEYWORD = 10\n",
    "\n",
    "\n",
    "\n",
    "def show_cluster_result(model):\n",
    "    y = model.labels_\n",
    "    top_n_topics = Counter(y).most_common(N_TOPIC)\n",
    "    for label_ind, label_count in np.array(top_n_topics):\n",
    "        print(\"#### cluster {} with count: {} ####\".format(label_ind, label_count))\n",
    "        c = Counter()\n",
    "        pdf[:N_SAMPLES].urlkeys[y == label_ind].apply(lambda row: c.update(row))\n",
    "        print(dict(c.most_common(N_KEYWORD)).keys())\n",
    "        \n",
    "def print_cluster(model, cluster_id):\n",
    "    y = model.labels_\n",
    "    count_topics = Counter(y)\n",
    "    print(\"#### cluster {} with count: {} ####\".format(cluster_id, count_topics[cluster_id]))\n",
    "    print(pdf[:N_SAMPLES].urlkeys[y == cluster_id])"
   ]
  },
  {
   "cell_type": "code",
   "execution_count": 30,
   "metadata": {},
   "outputs": [
    {
     "name": "stdout",
     "output_type": "stream",
     "text": [
      "#### cluster 0 with count: 928 ####\n",
      "dict_keys(['fun-times', 'outdoors', 'diningout', 'adventure', 'hiking', 'social', 'newintown', 'softwaredev', 'socialnetwork', 'self-improvement'])\n",
      "#### cluster 1 with count: 60 ####\n",
      "dict_keys(['opensource', 'professional-networking', 'web-development', 'newintown', 'entrepreneurship', 'outdoors', 'social', 'startup-businesses', 'fun-times', 'diningout'])\n",
      "#### cluster 2 with count: 6 ####\n",
      "dict_keys(['agile-mindset', 'wellness', 'kayaking', 'web-development', 'agile-leadership', 'business-analysis-tools-and-techniques', 'wine-tasting', 'baking', 'learning-tarot', 'mindfulness'])\n",
      "#### cluster 3 with count: 4 ####\n",
      "dict_keys(['coffee', 'singles-30s-50s', 'diningout', 'socialnetwork', 'dating-and-relationships', 'singles', 'social', 'fun-times', 'singles-singles-singles', 'self-improvement'])\n",
      "#### cluster 4 with count: 2 ####\n",
      "dict_keys(['spiritualism', 'wellness', 'personal-training', 'weight-loss-challenge', 'spiritual-healing', 'outdoor-fitness-boot-camp', 'social', 'nutrition', 'excercise', 'group-fitness-training'])\n"
     ]
    }
   ],
   "source": [
    "show_cluster_result(model)"
   ]
  },
  {
   "cell_type": "code",
   "execution_count": 233,
   "metadata": {},
   "outputs": [
    {
     "name": "stdout",
     "output_type": "stream",
     "text": [
      "#### cluster 0 with count: 121 ####\n",
      "3      [machine-learning, predictive-analytics, data-science, data-mining, big-data-analytics, educatio...\n",
      "4      [opensource, webdesign, softwaredev, newtech, technology, information-technology, web-developmen...\n",
      "5      [outdoor-adventures, outdoors, hiking, kayaking, adventure, nature-photography, nature-walks, we...\n",
      "7      [education, mba-applications, gmat-test-prep-and-tutoring, mba-schools-and-programs, gmat-study-...\n",
      "8      [newintown, expatjapanese, socialnetwork, culture-exchange, language, japanese-language, japanes...\n",
      "10     [self-exploration, transformation, social, lifetransform, reiki, metaphysics, yoga, energy-heali...\n",
      "11     [mens-soccer, co-ed-soccer, womens-soccer, experienced-soccer-players, soccer, coed-soccer, outd...\n",
      "12     [beach, outdoors, kayak-camping, hiking-backpacking-camping, stand-up-paddle-boarding, beach-wal...\n",
      "13     [machine-learning, predictive-analytics, data-science, data-mining, big-data-analytics, educatio...\n",
      "14     [singles, newintown, socialnetwork, professional-networking, singles-30s-50s, professional-singl...\n",
      "15     [singles, social, socialnetwork, nightlife, adventure, fun-times, happy-hours, singles-20s-30s-4...\n",
      "16     [linux, opensource, leadership, professional-networking, coffee-tea-socials, configuration-manag...\n",
      "17     [womens-fitness, singles, newintown, volleyball, indoor-volleyball, sports, outdoor-volleyball, ...\n",
      "18                             [fitness, hiking, walkers, outdoors, outdoor-fitness, adventure, excercise]\n",
      "19                                    [machine-learning, natural-language-processing, london, softwaredev]\n",
      "20     [jewelry, beadwork, bead-addicts, beading-beginner-intermediate-advanced, beading, beading-and-j...\n",
      "21     [divorcesupport, consciousness, womens-empowerment, lifetransform, spirituality, self-empowermen...\n",
      "22     [softwaredev, socialnetwork, newtech, web, web-development, mobile-technology, business-strategy...\n",
      "23     [animalrescue, helping-rescue-dogs-become-pets, activedogs, baltimore, dog-parks, nature-walks-w...\n",
      "24     [brit, international-friends, european-expats, expat, american, exchangestud, expatspanish, wome...\n",
      "26     [divorcesupport, divorce-grief-support, divorced, newly-divorced, divorce-separation, marital-se...\n",
      "27     [hiking, lgbtfriends, womens-hiking, Lesbian, lesbian-friends, straight-and-gay-welcome, san-fra...\n",
      "28     [small-dog-breeds-puppies, small-dog-playgroup, smallbreeddogs, bichonfrise, dog-play-groups, yo...\n",
      "35                                             [russians, russian-culture, expatrussian, russkie, russian]\n",
      "181    [inddesign, ria, ia, gui, user-research, webdesign, usability, user-experience, ixd, mobile-user...\n",
      "195    [apache-spark, opensource, python, hadoop, big-data, machine-learning, data-analytics, predictiv...\n",
      "201    [opensource, softwaredev, web-development, computer-programming, social-coding, coding-for-begin...\n",
      "204    [workathome, freelance, coworking, creative-freelancers, coworkers, coworking-space, co-working-...\n",
      "216    [dallas-cowboys-fan-club, social, socialnetwork, diningout, singles, movies, comedy, coffee, hap...\n",
      "217    [affiliate-marketing, google-adwords, seo-search-engine-optimization, email-campaign-marketing, ...\n",
      "                                                      ...                                                 \n",
      "289    [esl, japanese-culture, culture-exchange, language-exchange, french, social, japanese-language, ...\n",
      "290    [esl, japanese-culture, culture-exchange, language-exchange, french, social, japanese-language, ...\n",
      "291    [softwaredev, programming-languages, web-development, software-engineering, computer-programming...\n",
      "292    [smallbiz, marketing, prodev, leadership, business-referral-networking, professional-networking,...\n",
      "293    [ansible, devops, configuration-management, linux, opensource, sysadmin, continuous-delivery, in...\n",
      "295                                                      [free-your-mind, truth-seekers, 9-11, naturallaw]\n",
      "296    [network-management-and-monitoring, it-professionals, infrastructure-as-code, data-center-and-op...\n",
      "297                                                  [christianmin, spirituality, christian, jesus-christ]\n",
      "300    [settlers, cardgame, games, roleplaying-games-rpgs, tabletop-role-playing-and-board-games, Euro-...\n",
      "301    [entrepreneurship, coworking, business-strategy, socialnetwork, social, marketing, business-entr...\n",
      "302    [business-in-china, entrepreneurship, healthcare-professionals, life-sciences, medical-device-te...\n",
      "303    [spanish, italian, french, german, portuguese, russian, arabic, exchangestud, language, japanese...\n",
      "304    [diningout, metaphysics, meditation, self-improvement, consciousness, spirituality, energy-heali...\n",
      "305    [diningout, metaphysics, meditation, self-improvement, consciousness, spirituality, energy-heali...\n",
      "306                   [20s-30s-social, young-professionals, social, newintown, singles-20s-and-30s, women]\n",
      "307    [science, skeptics, brights, humanism, critical-thinking, freethinker, atheists, agnostic, reaso...\n",
      "308    [democrat, feminism, localpolitics, grassrootsprog, movement, womens-rights, womens-empowerment,...\n",
      "309                                                  [christianmin, spirituality, christian, jesus-christ]\n",
      "323    [sports, excercise, outdoor-fitness, outdoors, cycling, group-fitness-training, womens-fitness, ...\n",
      "324    [toastmasters, self-improvement, prodev, publicspeaking, leadership, professional-networking, pr...\n",
      "499                   [museum, contemporary-art, fine-arts, art-galleries, art-museums, museums-galleries]\n",
      "549           [literature, poetry, philosophy, fiction, creative-writing, authors, writing, novel-writing]\n",
      "554    [newintown, nightlife, social, diningout, socialnetwork, living-abroad, travel, boston-artists, ...\n",
      "585    [water-sports, extreme-sports, outdoors, adventure, sports, outdoor-adventures, rockclimbing, wa...\n",
      "623    [singles, merengue, bachata, socialnetwork, salsa, salsa-dance-lessons, dancing, dance-lessons, ...\n",
      "640           [adventure, socialnetwork, newintown, nightlife, beer, wine, social, conversation, drinking]\n",
      "743    [healthy-active-lifestyle, fitness-boot-camp, outdoor-fitness, nutrition, group-fitness-training...\n",
      "927    [social, volunteering, fun-times, socialnetwork, newintown, community-service, community-outreac...\n",
      "947    [pick-up-tennis, excercise, indoor-tennis, outdoor-tennis, sports, outdoors, tennis, competitive...\n",
      "995    [self-improvement, prodev, publicspeaking, leadership, professional-networking, business-strateg...\n",
      "Name: urlkeys, dtype: object\n"
     ]
    }
   ],
   "source": [
    "print_cluster(model, 0)"
   ]
  },
  {
   "cell_type": "code",
   "execution_count": 67,
   "metadata": {},
   "outputs": [
    {
     "data": {
      "text/plain": [
       "['agglomerate-cluster-model-5000row-50class-average-fast.pkl']"
      ]
     },
     "execution_count": 67,
     "metadata": {},
     "output_type": "execute_result"
    }
   ],
   "source": [
    "joblib.dump(model, \"agglomerate-cluster-model-5000row-50class-average-fast.pkl\")"
   ]
  },
  {
   "cell_type": "code",
   "execution_count": 29,
   "metadata": {},
   "outputs": [
    {
     "ename": "NameError",
     "evalue": "name 'N_TOPIC' is not defined",
     "output_type": "error",
     "traceback": [
      "\u001b[0;31m---------------------------------------------------------------------------\u001b[0m",
      "\u001b[0;31mNameError\u001b[0m                                 Traceback (most recent call last)",
      "\u001b[0;32m<ipython-input-29-12f2f6d497cc>\u001b[0m in \u001b[0;36m<module>\u001b[0;34m()\u001b[0m\n\u001b[1;32m      5\u001b[0m \u001b[0;32mfrom\u001b[0m \u001b[0mtime\u001b[0m \u001b[0;32mimport\u001b[0m \u001b[0mtime\u001b[0m\u001b[0;34m\u001b[0m\u001b[0m\n\u001b[1;32m      6\u001b[0m \u001b[0;34m\u001b[0m\u001b[0m\n\u001b[0;32m----> 7\u001b[0;31m \u001b[0mn_samples\u001b[0m\u001b[0;34m,\u001b[0m \u001b[0mn_features\u001b[0m\u001b[0;34m,\u001b[0m \u001b[0mn_topics\u001b[0m\u001b[0;34m,\u001b[0m \u001b[0mn_top_words\u001b[0m \u001b[0;34m=\u001b[0m \u001b[0mN_SAMPLES\u001b[0m\u001b[0;34m,\u001b[0m \u001b[0;36m1000\u001b[0m\u001b[0;34m,\u001b[0m \u001b[0mN_TOPIC\u001b[0m\u001b[0;34m,\u001b[0m \u001b[0mN_KEYWORD\u001b[0m\u001b[0;34m\u001b[0m\u001b[0m\n\u001b[0m\u001b[1;32m      8\u001b[0m \u001b[0;34m\u001b[0m\u001b[0m\n\u001b[1;32m      9\u001b[0m \u001b[0;32mdef\u001b[0m \u001b[0mprint_top_words\u001b[0m\u001b[0;34m(\u001b[0m\u001b[0mmodel\u001b[0m\u001b[0;34m,\u001b[0m \u001b[0mfeature_names\u001b[0m\u001b[0;34m,\u001b[0m \u001b[0mn_top_words\u001b[0m\u001b[0;34m)\u001b[0m\u001b[0;34m:\u001b[0m\u001b[0;34m\u001b[0m\u001b[0m\n",
      "\u001b[0;31mNameError\u001b[0m: name 'N_TOPIC' is not defined"
     ]
    }
   ],
   "source": [
    "# use NMF to print most common topics\n",
    "\n",
    "from sklearn.feature_extraction.text import TfidfVectorizer, CountVectorizer\n",
    "from sklearn.decomposition import NMF\n",
    "from time import time\n",
    "\n",
    "n_samples, n_features, n_topics, n_top_words = N_SAMPLES, 1000, N_TOPIC, N_KEYWORD\n",
    "\n",
    "def print_top_words(model, feature_names, n_top_words):\n",
    "        for topic_idx, topic in enumerate(model.components_):\n",
    "            print(\"Topic #%d:\" % topic_idx)\n",
    "            print(\" \".join([feature_names[i]\n",
    "                            for i in topic.argsort()[:-n_top_words - 1:-1]]))\n",
    "        print()\n",
    "\n",
    "def nmf_rsvp():\n",
    "    '''\n",
    "    Load the rsvp urlkeys dataset and vectorize it. We use a few heuristics\n",
    "    to filter out useless terms early on: the posts are stripped of headers,\n",
    "    footers and quoted replies, and common English words, words occurring in\n",
    "    only one document or in at least 95% of the documents are removed.\n",
    "    '''\n",
    "    print(\"Loading dataset...\")\n",
    "    data_samples = pdf.all_text[:n_samples]\n",
    "\n",
    "    # Use tf-idf features for NMF.\n",
    "    print(\"Extracting tf-idf features for NMF...\")\n",
    "    tfidf_vectorizer = TfidfVectorizer(max_df=0.95, min_df=2,\n",
    "                                       max_features=n_features,\n",
    "                                       stop_words='english')\n",
    "    tfidf = tfidf_vectorizer.fit_transform(data_samples)\n",
    "    nmf = NMF(n_components=n_topics, random_state=1,\n",
    "              alpha=.1, l1_ratio=.5).fit(tfidf)\n",
    "\n",
    "    print(\"\\nTopics in NMF model:\")\n",
    "    tfidf_feature_names = tfidf_vectorizer.get_feature_names()\n",
    "    print_top_words(nmf, tfidf_feature_names, n_top_words)\n",
    "    \n",
    "\n",
    "nmf_rsvp()"
   ]
  },
  {
   "cell_type": "code",
   "execution_count": 24,
   "metadata": {
    "collapsed": true
   },
   "outputs": [],
   "source": [
    "model = joblib.load(\"agglomerate-cluster-model-5000row-50class-average-fast.pkl\")"
   ]
  },
  {
   "cell_type": "code",
   "execution_count": 41,
   "metadata": {
    "collapsed": true
   },
   "outputs": [],
   "source": [
    "y_train = model.labels_"
   ]
  },
  {
   "cell_type": "code",
   "execution_count": 29,
   "metadata": {
    "collapsed": true
   },
   "outputs": [],
   "source": [
    "from sklearn.ensemble import RandomForestClassifier\n",
    "\n",
    "rf = RandomForestClassifier(n_estimators=100, max_depth=3, random_state=42, n_jobs=-1)"
   ]
  },
  {
   "cell_type": "code",
   "execution_count": 28,
   "metadata": {},
   "outputs": [
    {
     "data": {
      "text/plain": [
       "0    [data-science, big-data, data-visualization, data-mining, machine-learning, big-data-analytics, ...\n",
       "1                                                               [walkers, volkssport, fitness, outdoors]\n",
       "2               [soccer, pickupsoccer, eurofootball, indoor-soccer, coed-soccer, outdoor-soccer, futbol]\n",
       "3    [machine-learning, predictive-analytics, data-science, data-mining, big-data-analytics, educatio...\n",
       "4    [opensource, webdesign, softwaredev, newtech, technology, information-technology, web-developmen...\n",
       "5    [outdoor-adventures, outdoors, hiking, kayaking, adventure, nature-photography, nature-walks, we...\n",
       "6                                                               [walkers, volkssport, fitness, outdoors]\n",
       "7    [education, mba-applications, gmat-test-prep-and-tutoring, mba-schools-and-programs, gmat-study-...\n",
       "8    [newintown, expatjapanese, socialnetwork, culture-exchange, language, japanese-language, japanes...\n",
       "9    [diningout, women, outdoors, travel, newintown, fun-times, young-professionals, professional-net...\n",
       "Name: urlkeys, dtype: object"
      ]
     },
     "execution_count": 28,
     "metadata": {},
     "output_type": "execute_result"
    }
   ],
   "source": [
    "pdf.urlkeys[:10]"
   ]
  },
  {
   "cell_type": "code",
   "execution_count": 43,
   "metadata": {},
   "outputs": [
    {
     "data": {
      "text/plain": [
       "RandomForestClassifier(bootstrap=True, class_weight=None, criterion='gini',\n",
       "            max_depth=3, max_features='auto', max_leaf_nodes=None,\n",
       "            min_impurity_split=1e-07, min_samples_leaf=1,\n",
       "            min_samples_split=2, min_weight_fraction_leaf=0.0,\n",
       "            n_estimators=100, n_jobs=-1, oob_score=False, random_state=42,\n",
       "            verbose=0, warm_start=False)"
      ]
     },
     "execution_count": 43,
     "metadata": {},
     "output_type": "execute_result"
    }
   ],
   "source": [
    "rf.fit(vectorizer.transform(X_train), y_train)"
   ]
  },
  {
   "cell_type": "code",
   "execution_count": 45,
   "metadata": {},
   "outputs": [
    {
     "data": {
      "text/plain": [
       "70087                            [indiefilm, bookclub, intellectual-discussion, docfilm, film, movie-nights]\n",
       "70088    [cycling, road-bikes, mountain-biking, casual-bicycling, cycling-for-fitness, bicycling-beginner...\n",
       "70089    [outdoors, hiking, nature-walks, family-friendly-activities, plant-identification, local-wildlif...\n",
       "70090    [microsft, windows-azure-platform, microsoft-azure, softwaredev, cloud-security, cloud-computing...\n",
       "70091    [diningout, newintown, socialnetwork, craftswap, women, outdoors, fun-times, excercise, laughter...\n",
       "Name: urlkeys, dtype: object"
      ]
     },
     "execution_count": 45,
     "metadata": {},
     "output_type": "execute_result"
    }
   ],
   "source": [
    "X_test = pdf.urlkeys[-5:]\n",
    "X_test"
   ]
  },
  {
   "cell_type": "code",
   "execution_count": 46,
   "metadata": {},
   "outputs": [
    {
     "data": {
      "text/plain": [
       "array([0, 0, 0, 0, 0])"
      ]
     },
     "execution_count": 46,
     "metadata": {},
     "output_type": "execute_result"
    }
   ],
   "source": [
    "rf.predict(vectorizer.transform(X_test))"
   ]
  },
  {
   "cell_type": "markdown",
   "metadata": {},
   "source": [
    "### Make a dendrogram plot"
   ]
  },
  {
   "cell_type": "code",
   "execution_count": 60,
   "metadata": {},
   "outputs": [
    {
     "name": "stdout",
     "output_type": "stream",
     "text": [
      "[[]\n",
      " ['10k', 'walkers', 'half-marathon', 'beginners-running', 'running', 'group-fitness-training', 'marathon', '5k', 'how-to-train-for-a-5k-race', 'fitness-for-a-healthy-lifestyle', 'track-workouts-for-men-and-women', 'strength-conditioning', 'strength-training-for-runners', 'clinics-for-running']\n",
      " ['10k', 'walkers', 'running', 'half-marathon', 'beginners-running', 'marathon', '5k', 'how-to-train-for-a-5k-race', 'how-to-train-for-a-10-mile-race', 'fitness-for-a-healthy-lifestyle', 'track-workouts-for-men-and-women', 'strength-conditioning', 'clinics-for-running', 'strength-training-for-runners']]\n"
     ]
    }
   ],
   "source": [
    "print(X[:3])"
   ]
  },
  {
   "cell_type": "code",
   "execution_count": 62,
   "metadata": {},
   "outputs": [
    {
     "name": "stdout",
     "output_type": "stream",
     "text": [
      "[[1 0 0 0 0 0 0 0 0 0 0 0 0 0 0 0]\n",
      " [0 1 1 1 1 1 1 1 0 1 1 1 1 1 1 1]\n",
      " [0 1 1 1 1 1 0 1 1 1 1 1 1 1 1 1]]\n"
     ]
    }
   ],
   "source": [
    "print(vectorizer.fit_transform(X[:3]).todense())"
   ]
  },
  {
   "cell_type": "code",
   "execution_count": 192,
   "metadata": {},
   "outputs": [],
   "source": [
    "# compute distance matrix\n",
    "from scipy.spatial.distance import pdist, squareform\n",
    "from sklearn.neighbors import DistanceMetric\n",
    "\n",
    "# X = np.unique(pdf.urlkeys)\n",
    "\n",
    "def get_distance_matrix(X):\n",
    "    vectorized_urlkeys = vectorizer.fit_transform(X)\n",
    "    # not printed as pretty, but the values are correct\n",
    "    # distxy = squareform(pdist(vectorized_urlkeys.todense(), metric='jaccard'))\n",
    "\n",
    "    pair_dist = DistanceMetric.get_metric('jaccard').pairwise(vectorized_urlkeys.todense())\n",
    "    # replace nan by 1\n",
    "    ind_zeros = np.where(np.isnan(pair_dist))\n",
    "    pair_dist[ind_zeros] = 1.\n",
    "    distxy = pair_dist\n",
    "#     print (distxy)\n",
    "    return distxy"
   ]
  },
  {
   "cell_type": "code",
   "execution_count": 202,
   "metadata": {},
   "outputs": [
    {
     "data": {
      "text/plain": [
       "array([[ 0. ,  0.8],\n",
       "       [ 0.8,  0. ]])"
      ]
     },
     "execution_count": 202,
     "metadata": {},
     "output_type": "execute_result"
    }
   ],
   "source": [
    "T = [[0,0,1,1,0,1],[1,0,0,0,1,1]]\n",
    "pair_dist = DistanceMetric.get_metric('jaccard').pairwise(T)\n",
    "pair_dist"
   ]
  },
  {
   "cell_type": "code",
   "execution_count": 194,
   "metadata": {},
   "outputs": [
    {
     "data": {
      "text/plain": [
       "array([[ 0.        ,  1.        ,  1.        , ...,  1.        ,\n",
       "         1.        ,  1.        ],\n",
       "       [ 1.        ,  0.        ,  0.13333333, ...,  1.        ,\n",
       "         1.        ,  1.        ],\n",
       "       [ 1.        ,  0.13333333,  0.        , ...,  1.        ,\n",
       "         1.        ,  1.        ],\n",
       "       ..., \n",
       "       [ 1.        ,  1.        ,  1.        , ...,  0.        ,\n",
       "         0.70588235,  0.73913043],\n",
       "       [ 1.        ,  1.        ,  1.        , ...,  0.70588235,\n",
       "         0.        ,  0.64705882],\n",
       "       [ 1.        ,  1.        ,  1.        , ...,  0.73913043,\n",
       "         0.64705882,  0.        ]])"
      ]
     },
     "execution_count": 194,
     "metadata": {},
     "output_type": "execute_result"
    }
   ],
   "source": [
    "distxy"
   ]
  },
  {
   "cell_type": "code",
   "execution_count": 41,
   "metadata": {
    "collapsed": true
   },
   "outputs": [],
   "source": [
    "from sklearn.neighbors import kneighbors_graph\n",
    "connectivity = kneighbors_graph(vectorized_urlkeys.todense(), n_neighbors=5, include_self=False, metric='jaccard')"
   ]
  },
  {
   "cell_type": "code",
   "execution_count": 42,
   "metadata": {
    "collapsed": true
   },
   "outputs": [],
   "source": [
    "# connectivity = 0.5 * (connectivity + connectivity.T)"
   ]
  },
  {
   "cell_type": "code",
   "execution_count": 43,
   "metadata": {
    "collapsed": true
   },
   "outputs": [],
   "source": [
    "# np.sum(connectivity.todense(), axis=1)"
   ]
  },
  {
   "cell_type": "code",
   "execution_count": 162,
   "metadata": {},
   "outputs": [
    {
     "data": {
      "text/plain": [
       "array([[ 0.        ,  1.        ,  1.        , ...,  1.        ,\n",
       "         1.        ,  1.        ],\n",
       "       [ 1.        ,  0.        ,  0.13333333, ...,  1.        ,\n",
       "         1.        ,  1.        ],\n",
       "       [ 1.        ,  0.13333333,  0.        , ...,  1.        ,\n",
       "         1.        ,  1.        ],\n",
       "       ..., \n",
       "       [ 1.        ,  1.        ,  1.        , ...,  0.        ,\n",
       "         0.70588235,  0.73913043],\n",
       "       [ 1.        ,  1.        ,  1.        , ...,  0.70588235,\n",
       "         0.        ,  0.64705882],\n",
       "       [ 1.        ,  1.        ,  1.        , ...,  0.73913043,\n",
       "         0.64705882,  0.        ]])"
      ]
     },
     "execution_count": 162,
     "metadata": {},
     "output_type": "execute_result"
    }
   ],
   "source": [
    "distxy"
   ]
  },
  {
   "cell_type": "code",
   "execution_count": 186,
   "metadata": {},
   "outputs": [],
   "source": [
    "average_linkage = AgglomerativeClustering(\n",
    "        linkage=\"average\", affinity=\"jaccard\", n_clusters=40,\n",
    "        connectivity=None)"
   ]
  },
  {
   "cell_type": "code",
   "execution_count": 187,
   "metadata": {},
   "outputs": [
    {
     "name": "stderr",
     "output_type": "stream",
     "text": [
      "/Users/tristan/anaconda3/lib/python3.5/site-packages/sklearn/cluster/hierarchical.py:410: ClusterWarning: scipy.cluster: The symmetric non-negative hollow observation matrix looks suspiciously like an uncondensed distance matrix\n",
      "  out = hierarchy.linkage(X, method=linkage, metric=affinity)\n"
     ]
    },
    {
     "data": {
      "text/plain": [
       "AgglomerativeClustering(affinity='jaccard', compute_full_tree='auto',\n",
       "            connectivity=None, linkage='average',\n",
       "            memory=Memory(cachedir=None), n_clusters=40,\n",
       "            pooling_func=<function mean at 0x11098e8c8>)"
      ]
     },
     "execution_count": 187,
     "metadata": {},
     "output_type": "execute_result"
    }
   ],
   "source": [
    "average_linkage.fit(distxy)"
   ]
  },
  {
   "cell_type": "code",
   "execution_count": 188,
   "metadata": {},
   "outputs": [
    {
     "name": "stdout",
     "output_type": "stream",
     "text": [
      "#### cluster 0 with count: 550 ####\n",
      "dict_keys(['fun-times', 'outdoors', 'diningout', 'nightlife', 'adventure', 'entrepreneurship', 'social', 'newintown', 'socialnetwork', 'self-improvement'])\n",
      "#### cluster 1 with count: 50 ####\n",
      "dict_keys(['fun-times', 'outdoors', 'diningout', 'entrepreneurship', 'singles', 'social', 'socialnetwork', 'softwaredev', 'newintown', 'hiking'])\n",
      "#### cluster 2 with count: 50 ####\n",
      "dict_keys(['fun-times', 'social', 'adventure', 'socialnetwork', 'outdoors', 'self-improvement', 'excercise', 'singles', 'newintown', 'self-empowerment'])\n",
      "#### cluster 6 with count: 14 ####\n",
      "dict_keys(['outdoors', 'dating-and-relationships', 'diningout', 'self-improvement', 'singles-singles-singles', 'social', 'fun-times', 'softwaredev', 'socialnetwork', 'walkers'])\n",
      "#### cluster 3 with count: 10 ####\n",
      "dict_keys(['wellness', 'lifetransform', 'self-empowerment', 'entrepreneurship', 'healthy-living', 'professional-networking', 'startup-businesses', 'spirituality', 'self-improvement', 'social'])\n",
      "#### cluster 4 with count: 10 ####\n",
      "dict_keys(['fun-times', 'healthy-living', 'walkers', 'outdoors', 'social', 'newintown', 'excercise', 'community-outreach', 'socialnetwork', 'self-improvement'])\n",
      "#### cluster 5 with count: 10 ####\n",
      "dict_keys(['hiking', 'diningout', 'adventure', 'tennis', 'outdoors', 'fun-times', 'excercise', 'nature', 'self-improvement', 'outdoor-adventures'])\n",
      "#### cluster 7 with count: 10 ####\n",
      "dict_keys(['hiking', 'travel', 'livemusic', 'healthy-living', 'outdoors', 'excercise', 'walkers', 'socialnetwork', 'social', 'adventure'])\n",
      "#### cluster 8 with count: 10 ####\n",
      "dict_keys(['women-designers-and-artists', 'mobile-development', 'web-development', 'female-entrepreneurs', 'women-science-technology-engineering-mathematics', 'softwaredev', 'computer-programming', 'witi', 'womens-empowerment', 'web'])\n",
      "#### cluster 9 with count: 10 ####\n",
      "dict_keys(['paas', 'healthy-living', 'devops', 'newtech', 'microsoft-office-365-public-cloud-based-technology', 'technology', 'socialnetwork', 'self-improvement', 'saas-software-as-a-service', 'office-365'])\n"
     ]
    }
   ],
   "source": [
    "show_cluster_result(average_linkage)"
   ]
  },
  {
   "cell_type": "code",
   "execution_count": 210,
   "metadata": {},
   "outputs": [
    {
     "name": "stderr",
     "output_type": "stream",
     "text": [
      "/Users/tristan/anaconda3/lib/python3.5/site-packages/ipykernel_launcher.py:14: ClusterWarning: scipy.cluster: The symmetric non-negative hollow observation matrix looks suspiciously like an uncondensed distance matrix\n",
      "  \n"
     ]
    },
    {
     "data": {
      "text/plain": [
       "<matplotlib.text.Text at 0x127ebfb70>"
      ]
     },
     "execution_count": 210,
     "metadata": {},
     "output_type": "execute_result"
    },
    {
     "data": {
      "image/png": "[encoded data removed]",
      "text/plain": [
       "<matplotlib.figure.Figure at 0x12335ca90>"
      ]
     },
     "metadata": {},
     "output_type": "display_data"
    }
   ],
   "source": [
    "from scipy.cluster.hierarchy import linkage, dendrogram\n",
    "import sys\n",
    "import matplotlib.pyplot as plt\n",
    "%matplotlib inline\n",
    "\n",
    "n_samples = 1000\n",
    "# linkage = 'complete'\n",
    "# metric = 'jaccard'\n",
    "\n",
    "distxy = get_distance_matrix(X[:1000])\n",
    "\n",
    "plt.figure(figsize=(12,10))\n",
    "# R = dendrogram(linkage(distxy, method='average'), p=5, truncate_mode='level', get_leaves=True)\n",
    "R = dendrogram(linkage(distxy, method='average'))\n",
    "plt.xlabel('points')\n",
    "plt.ylabel('Height')\n",
    "plt.title(\"Cluster Dendrogram: linkage=average metric=jaccard\")"
   ]
  },
  {
   "cell_type": "code",
   "execution_count": 150,
   "metadata": {},
   "outputs": [
    {
     "data": {
      "text/plain": [
       "dict_keys(['dcoord', 'color_list', 'leaves', 'icoord', 'ivl'])"
      ]
     },
     "execution_count": 150,
     "metadata": {},
     "output_type": "execute_result"
    }
   ],
   "source": [
    "R.keys()"
   ]
  },
  {
   "cell_type": "code",
   "execution_count": null,
   "metadata": {},
   "outputs": [],
   "source": [
    "R['color_list']"
   ]
  },
  {
   "cell_type": "code",
   "execution_count": 69,
   "metadata": {},
   "outputs": [
    {
     "name": "stderr",
     "output_type": "stream",
     "text": [
      "/Users/tristan/anaconda3/lib/python3.5/site-packages/ipykernel_launcher.py:1: VisibleDeprecationWarning: boolean index did not match indexed array along dimension 0; dimension is 1000 but corresponding boolean dimension is 999\n",
      "  \"\"\"Entry point for launching an IPython kernel.\n"
     ]
    },
    {
     "data": {
      "text/plain": [
       "890    [wine, diningout, newintown, nightlife, socialnetwork, livemusic, fun-times, drinking, movie-nig...\n",
       "902                                                     [acting, beginners-acting-training, actor, improv]\n",
       "907    [spanish, digcam, photo, photography-classes, portrait-photography, espanol, photo-walks, native...\n",
       "300    [settlers, cardgame, games, roleplaying-games-rpgs, tabletop-role-playing-and-board-games, Euro-...\n",
       "195    [apache-spark, opensource, python, hadoop, big-data, machine-learning, data-analytics, predictiv...\n",
       "201    [opensource, softwaredev, web-development, computer-programming, social-coding, coding-for-begin...\n",
       "296    [network-management-and-monitoring, it-professionals, infrastructure-as-code, data-center-and-op...\n",
       "260    [mozilla, opensource, softwaredev, newtech, web, web-development, programming-languages, functio...\n",
       "286    [self-improvement, arabic-culture, diningout, fun-times, expat, egyptian-expats, arabic, egyptia...\n",
       "237    [entrepreneurship, digital-health, health-information-technology, healthpros, newtech, professio...\n",
       "304    [diningout, metaphysics, meditation, self-improvement, consciousness, spirituality, energy-heali...\n",
       "224    [smokers, hemp, medmarijuana, medical-cannabis, dancing, how-does-medical-marijuana-work, outdoo...\n",
       "227    [hiking, camping, walkers, backpacking, adventure, fitness, sports, outdoors, outdoor-fitness, e...\n",
       "252    [real-estate-networking, real-estate-investors, real-estate-investing, real-estate, real-estate-...\n",
       "254    [hiking, diningout, newintown, travel, social, outdoors, fun-times, support-group, adventure, ov...\n",
       "246    [hiking, diningout, newintown, travel, social, outdoors, fun-times, support-group, adventure, ov...\n",
       "244    [golfing-the-good-the-bad-and-the-water-ball, golfing, just-fore-fun-golf, golf-for-beginners, v...\n",
       "255    [learning-how-to-scrapbook, cardmaking, digital-scrapbooking, adult-paper-craft-classes, scrapbo...\n",
       "225    [self-exploration, fun-times, nightlife, self-improvement, social, consciousness, self-empowerme...\n",
       "272                                          [latino-culture, bilingual-spanish-english, espanol, spanish]\n",
       "253    [data-visualization, machine-learning, predictive-analytics, r-project-for-statistical-computing...\n",
       "291    [softwaredev, programming-languages, web-development, software-engineering, computer-programming...\n",
       "220    [opensource, python, softwaredev, django, web-development, computer-programming, data-science, f...\n",
       "249    [scrum, agile-project-management, project-management-tools, project-management-professional, pri...\n",
       "236    [ai, robotics, newtech, natural-language-processing, machine-learning, predictive-analytics, art...\n",
       "245    [smokers, hemp, medmarijuana, medical-cannabis, dancing, how-does-medical-marijuana-work, outdoo...\n",
       "250    [user-experience, ux-design, ixd, digital-media, usability, user-research, user-interface-design...\n",
       "251    [user-experience, ux-design, ixd, digital-media, usability, user-research, user-interface-design...\n",
       "273    [wine, hiking, diningout, travel, couples, nightlife, outdoors, dogs, fun-times, wine-tasting, a...\n",
       "226    [bookclub, prodev, publicspeaking, newtech, social, intellectual-discussion, conversation, fun-t...\n",
       "                                                      ...                                                 \n",
       "239    [jewish-mixer, jewish, jewish-social, jewish-singles-and-mingles, jewish-professionals, jewish-f...\n",
       "257                                                   [bookclub, young-adult-fiction, fiction, literature]\n",
       "266    [mozilla, opensource, softwaredev, newtech, web, web-development, programming-languages, functio...\n",
       "283    [movies, eating-drinking-talking-laughing-etc, collaboration-between-creative-minds, knowledge-s...\n",
       "306                   [20s-30s-social, young-professionals, social, newintown, singles-20s-and-30s, women]\n",
       "269    [nature-walks, science, skeptics, hiking, botany, geology, intellectual-discussion, adventure, p...\n",
       "302    [business-in-china, entrepreneurship, healthcare-professionals, life-sciences, medical-device-te...\n",
       "231    [social, singles, couples, diningout, newintown, travel, self-improvement, excercise, wellness, ...\n",
       "293    [ansible, devops, configuration-management, linux, opensource, sysadmin, continuous-delivery, in...\n",
       "743    [healthy-active-lifestyle, fitness-boot-camp, outdoor-fitness, nutrition, group-fitness-training...\n",
       "223    [newintown, book-swap, bookclub, socialnetwork, women, intellectual-discussion, fiction, literat...\n",
       "240    [opensource, webdesign, mobile-technology, mobile-development, softwaredev, newtech, technology,...\n",
       "14     [singles, newintown, socialnetwork, professional-networking, singles-30s-50s, professional-singl...\n",
       "28     [small-dog-breeds-puppies, small-dog-playgroup, smallbreeddogs, bichonfrise, dog-play-groups, yo...\n",
       "640           [adventure, socialnetwork, newintown, nightlife, beer, wine, social, conversation, drinking]\n",
       "289    [esl, japanese-culture, culture-exchange, language-exchange, french, social, japanese-language, ...\n",
       "305    [diningout, metaphysics, meditation, self-improvement, consciousness, spirituality, energy-heali...\n",
       "288    [metaphysics, christianmin, the-urantia-book, urantia, spirituality, spiritual-growth, jesus-chr...\n",
       "292    [smallbiz, marketing, prodev, leadership, business-referral-networking, professional-networking,...\n",
       "268    [social, fun-times, singles, nightlife, diningout, newintown, wine, dancing, livemusic, travel, ...\n",
       "280    [weightloss, wellness, outdoor-fitness, healthy-living, excercise, self-improvement, fitness, ba...\n",
       "274    [dotnet, asp-net, web, newtech, user-group, computer-programming, web-development, softwaredev, ...\n",
       "11     [mens-soccer, co-ed-soccer, womens-soccer, experienced-soccer-players, soccer, coed-soccer, outd...\n",
       "281    [entrepreneurship, digital-health, health-information-technology, healthpros, newtech, professio...\n",
       "229    [musicians, open-mic, boston-artists, spoken-word, bookclub, readers, fiction, novel-reading, po...\n",
       "232    [real-estate-networking, real-estate-investors, real-estate-investing, real-estate, real-estate-...\n",
       "230    [hiking, newintown, rockclimbing, snowshoeing, outdoors, adventure, outdoor-adventures, mountain...\n",
       "279    [horses, equestrian, horseback-riding, equestrian-trail-riding, day-rides, group-riding, therape...\n",
       "21     [divorcesupport, consciousness, womens-empowerment, lifetransform, spirituality, self-empowermen...\n",
       "285                                          [latino-culture, bilingual-spanish-english, espanol, spanish]\n",
       "Name: urlkeys, dtype: object"
      ]
     },
     "execution_count": 69,
     "metadata": {},
     "output_type": "execute_result"
    }
   ],
   "source": [
    "color_list = np.array(R['color_list'])\n",
    "leaves = np.array(R['leaves'])\n",
    "pdf.urlkeys[leaves[color_list=='m']]"
   ]
  },
  {
   "cell_type": "markdown",
   "metadata": {},
   "source": [
    "color_threshold : double, optional\n",
    "    For brevity, let :math:`t` be the ``color_threshold``.\n",
    "    Colors all the descendent links below a cluster node\n",
    "    :math:`k` the same color if :math:`k` is the first node below\n",
    "    the cut threshold :math:`t`. All links connecting nodes with\n",
    "    distances greater than or equal to the threshold are colored\n",
    "    blue. If :math:`t` is less than or equal to zero, all nodes\n",
    "    are colored blue. If ``color_threshold`` is None or\n",
    "    'default', corresponding with MATLAB(TM) behavior, the\n",
    "    threshold is set to ``0.7*max(Z[:,2])``."
   ]
  },
  {
   "cell_type": "code",
   "execution_count": 171,
   "metadata": {},
   "outputs": [
    {
     "data": {
      "text/plain": [
       "0.69999999999999996"
      ]
     },
     "execution_count": 171,
     "metadata": {},
     "output_type": "execute_result"
    }
   ],
   "source": [
    "0.7*max(distxy[:,2])"
   ]
  },
  {
   "cell_type": "code",
   "execution_count": 105,
   "metadata": {},
   "outputs": [
    {
     "name": "stdout",
     "output_type": "stream",
     "text": [
      "[[ 0.          1.          1.         ...,  1.          1.          1.        ]\n",
      " [ 1.          0.          0.13333333 ...,  1.          1.          1.        ]\n",
      " [ 1.          0.13333333  0.         ...,  1.          1.          1.        ]\n",
      " ..., \n",
      " [ 1.          1.          1.         ...,  0.          0.70588235\n",
      "   0.73913043]\n",
      " [ 1.          1.          1.         ...,  0.70588235  0.          0.64705882]\n",
      " [ 1.          1.          1.         ...,  0.73913043  0.64705882  0.        ]]\n"
     ]
    },
    {
     "ename": "TypeError",
     "evalue": "ufunc 'bitwise_and' not supported for the input types, and the inputs could not be safely coerced to any supported types according to the casting rule ''safe''",
     "output_type": "error",
     "traceback": [
      "\u001b[0;31m---------------------------------------------------------------------------\u001b[0m",
      "\u001b[0;31mTypeError\u001b[0m                                 Traceback (most recent call last)",
      "\u001b[0;32m<ipython-input-105-1944e9659f5e>\u001b[0m in \u001b[0;36m<module>\u001b[0;34m()\u001b[0m\n\u001b[1;32m      9\u001b[0m \u001b[0mdbscan\u001b[0m \u001b[0;34m=\u001b[0m \u001b[0mDBSCAN\u001b[0m\u001b[0;34m(\u001b[0m\u001b[0meps\u001b[0m\u001b[0;34m=\u001b[0m\u001b[0;36m0.7\u001b[0m\u001b[0;34m,\u001b[0m \u001b[0mmin_samples\u001b[0m\u001b[0;34m=\u001b[0m\u001b[0;36m4\u001b[0m\u001b[0;34m,\u001b[0m \u001b[0mmetric\u001b[0m\u001b[0;34m=\u001b[0m\u001b[0;32mlambda\u001b[0m \u001b[0mu\u001b[0m\u001b[0;34m,\u001b[0m\u001b[0mv\u001b[0m\u001b[0;34m:\u001b[0m \u001b[0msum\u001b[0m\u001b[0;34m(\u001b[0m\u001b[0mu\u001b[0m\u001b[0;34m&\u001b[0m\u001b[0mv\u001b[0m\u001b[0;34m)\u001b[0m\u001b[0;34m,\u001b[0m \u001b[0mn_jobs\u001b[0m\u001b[0;34m=\u001b[0m\u001b[0;34m-\u001b[0m\u001b[0;36m1\u001b[0m\u001b[0;34m)\u001b[0m\u001b[0;34m\u001b[0m\u001b[0m\n\u001b[1;32m     10\u001b[0m \u001b[0;34m\u001b[0m\u001b[0m\n\u001b[0;32m---> 11\u001b[0;31m \u001b[0mpred\u001b[0m \u001b[0;34m=\u001b[0m \u001b[0mdbscan\u001b[0m\u001b[0;34m.\u001b[0m\u001b[0mfit_predict\u001b[0m\u001b[0;34m(\u001b[0m\u001b[0mpair_dist\u001b[0m\u001b[0;34m)\u001b[0m\u001b[0;34m\u001b[0m\u001b[0m\n\u001b[0m\u001b[1;32m     12\u001b[0m \u001b[0mprint\u001b[0m\u001b[0;34m(\u001b[0m\u001b[0mpred\u001b[0m\u001b[0;34m)\u001b[0m\u001b[0;34m\u001b[0m\u001b[0m\n",
      "\u001b[0;32m/Users/tristan/anaconda3/lib/python3.5/site-packages/sklearn/cluster/dbscan_.py\u001b[0m in \u001b[0;36mfit_predict\u001b[0;34m(self, X, y, sample_weight)\u001b[0m\n\u001b[1;32m    294\u001b[0m             \u001b[0mcluster\u001b[0m \u001b[0mlabels\u001b[0m\u001b[0;34m\u001b[0m\u001b[0m\n\u001b[1;32m    295\u001b[0m         \"\"\"\n\u001b[0;32m--> 296\u001b[0;31m         \u001b[0mself\u001b[0m\u001b[0;34m.\u001b[0m\u001b[0mfit\u001b[0m\u001b[0;34m(\u001b[0m\u001b[0mX\u001b[0m\u001b[0;34m,\u001b[0m \u001b[0msample_weight\u001b[0m\u001b[0;34m=\u001b[0m\u001b[0msample_weight\u001b[0m\u001b[0;34m)\u001b[0m\u001b[0;34m\u001b[0m\u001b[0m\n\u001b[0m\u001b[1;32m    297\u001b[0m         \u001b[0;32mreturn\u001b[0m \u001b[0mself\u001b[0m\u001b[0;34m.\u001b[0m\u001b[0mlabels_\u001b[0m\u001b[0;34m\u001b[0m\u001b[0m\n",
      "\u001b[0;32m/Users/tristan/anaconda3/lib/python3.5/site-packages/sklearn/cluster/dbscan_.py\u001b[0m in \u001b[0;36mfit\u001b[0;34m(self, X, y, sample_weight)\u001b[0m\n\u001b[1;32m    264\u001b[0m         \u001b[0mX\u001b[0m \u001b[0;34m=\u001b[0m \u001b[0mcheck_array\u001b[0m\u001b[0;34m(\u001b[0m\u001b[0mX\u001b[0m\u001b[0;34m,\u001b[0m \u001b[0maccept_sparse\u001b[0m\u001b[0;34m=\u001b[0m\u001b[0;34m'csr'\u001b[0m\u001b[0;34m)\u001b[0m\u001b[0;34m\u001b[0m\u001b[0m\n\u001b[1;32m    265\u001b[0m         clust = dbscan(X, sample_weight=sample_weight,\n\u001b[0;32m--> 266\u001b[0;31m                        **self.get_params())\n\u001b[0m\u001b[1;32m    267\u001b[0m         \u001b[0mself\u001b[0m\u001b[0;34m.\u001b[0m\u001b[0mcore_sample_indices_\u001b[0m\u001b[0;34m,\u001b[0m \u001b[0mself\u001b[0m\u001b[0;34m.\u001b[0m\u001b[0mlabels_\u001b[0m \u001b[0;34m=\u001b[0m \u001b[0mclust\u001b[0m\u001b[0;34m\u001b[0m\u001b[0m\n\u001b[1;32m    268\u001b[0m         \u001b[0;32mif\u001b[0m \u001b[0mlen\u001b[0m\u001b[0;34m(\u001b[0m\u001b[0mself\u001b[0m\u001b[0;34m.\u001b[0m\u001b[0mcore_sample_indices_\u001b[0m\u001b[0;34m)\u001b[0m\u001b[0;34m:\u001b[0m\u001b[0;34m\u001b[0m\u001b[0m\n",
      "\u001b[0;32m/Users/tristan/anaconda3/lib/python3.5/site-packages/sklearn/cluster/dbscan_.py\u001b[0m in \u001b[0;36mdbscan\u001b[0;34m(X, eps, min_samples, metric, algorithm, leaf_size, p, sample_weight, n_jobs)\u001b[0m\n\u001b[1;32m    133\u001b[0m                                            \u001b[0mmetric\u001b[0m\u001b[0;34m=\u001b[0m\u001b[0mmetric\u001b[0m\u001b[0;34m,\u001b[0m \u001b[0mp\u001b[0m\u001b[0;34m=\u001b[0m\u001b[0mp\u001b[0m\u001b[0;34m,\u001b[0m\u001b[0;34m\u001b[0m\u001b[0m\n\u001b[1;32m    134\u001b[0m                                            n_jobs=n_jobs)\n\u001b[0;32m--> 135\u001b[0;31m         \u001b[0mneighbors_model\u001b[0m\u001b[0;34m.\u001b[0m\u001b[0mfit\u001b[0m\u001b[0;34m(\u001b[0m\u001b[0mX\u001b[0m\u001b[0;34m)\u001b[0m\u001b[0;34m\u001b[0m\u001b[0m\n\u001b[0m\u001b[1;32m    136\u001b[0m         \u001b[0;31m# This has worst case O(n^2) memory complexity\u001b[0m\u001b[0;34m\u001b[0m\u001b[0;34m\u001b[0m\u001b[0m\n\u001b[1;32m    137\u001b[0m         neighborhoods = neighbors_model.radius_neighbors(X, eps,\n",
      "\u001b[0;32m/Users/tristan/anaconda3/lib/python3.5/site-packages/sklearn/neighbors/base.py\u001b[0m in \u001b[0;36mfit\u001b[0;34m(self, X, y)\u001b[0m\n\u001b[1;32m    797\u001b[0m             \u001b[0;32mor\u001b[0m \u001b[0;34m[\u001b[0m\u001b[0mn_samples\u001b[0m\u001b[0;34m,\u001b[0m \u001b[0mn_samples\u001b[0m\u001b[0;34m]\u001b[0m \u001b[0;32mif\u001b[0m \u001b[0mmetric\u001b[0m\u001b[0;34m=\u001b[0m\u001b[0;34m'precomputed'\u001b[0m\u001b[0;34m.\u001b[0m\u001b[0;34m\u001b[0m\u001b[0m\n\u001b[1;32m    798\u001b[0m         \"\"\"\n\u001b[0;32m--> 799\u001b[0;31m         \u001b[0;32mreturn\u001b[0m \u001b[0mself\u001b[0m\u001b[0;34m.\u001b[0m\u001b[0m_fit\u001b[0m\u001b[0;34m(\u001b[0m\u001b[0mX\u001b[0m\u001b[0;34m)\u001b[0m\u001b[0;34m\u001b[0m\u001b[0m\n\u001b[0m",
      "\u001b[0;32m/Users/tristan/anaconda3/lib/python3.5/site-packages/sklearn/neighbors/base.py\u001b[0m in \u001b[0;36m_fit\u001b[0;34m(self, X)\u001b[0m\n\u001b[1;32m    238\u001b[0m             self._tree = BallTree(X, self.leaf_size,\n\u001b[1;32m    239\u001b[0m                                   \u001b[0mmetric\u001b[0m\u001b[0;34m=\u001b[0m\u001b[0mself\u001b[0m\u001b[0;34m.\u001b[0m\u001b[0meffective_metric_\u001b[0m\u001b[0;34m,\u001b[0m\u001b[0;34m\u001b[0m\u001b[0m\n\u001b[0;32m--> 240\u001b[0;31m                                   **self.effective_metric_params_)\n\u001b[0m\u001b[1;32m    241\u001b[0m         \u001b[0;32melif\u001b[0m \u001b[0mself\u001b[0m\u001b[0;34m.\u001b[0m\u001b[0m_fit_method\u001b[0m \u001b[0;34m==\u001b[0m \u001b[0;34m'kd_tree'\u001b[0m\u001b[0;34m:\u001b[0m\u001b[0;34m\u001b[0m\u001b[0m\n\u001b[1;32m    242\u001b[0m             self._tree = KDTree(X, self.leaf_size,\n",
      "\u001b[0;32msklearn/neighbors/binary_tree.pxi\u001b[0m in \u001b[0;36msklearn.neighbors.ball_tree.BinaryTree.__init__ (sklearn/neighbors/ball_tree.c:9674)\u001b[0;34m()\u001b[0m\n",
      "\u001b[0;32msklearn/neighbors/binary_tree.pxi\u001b[0m in \u001b[0;36msklearn.neighbors.ball_tree.BinaryTree._recursive_build (sklearn/neighbors/ball_tree.c:10923)\u001b[0;34m()\u001b[0m\n",
      "\u001b[0;32msklearn/neighbors/ball_tree.pyx\u001b[0m in \u001b[0;36msklearn.neighbors.ball_tree.init_node (sklearn/neighbors/ball_tree.c:21934)\u001b[0;34m()\u001b[0m\n",
      "\u001b[0;32msklearn/neighbors/binary_tree.pxi\u001b[0m in \u001b[0;36msklearn.neighbors.ball_tree.BinaryTree.rdist (sklearn/neighbors/ball_tree.c:10805)\u001b[0;34m()\u001b[0m\n",
      "\u001b[0;32msklearn/neighbors/dist_metrics.pyx\u001b[0m in \u001b[0;36msklearn.neighbors.dist_metrics.DistanceMetric.rdist (sklearn/neighbors/dist_metrics.c:4997)\u001b[0;34m()\u001b[0m\n",
      "\u001b[0;32msklearn/neighbors/dist_metrics.pyx\u001b[0m in \u001b[0;36msklearn.neighbors.dist_metrics.PyFuncDistance.dist (sklearn/neighbors/dist_metrics.c:11371)\u001b[0;34m()\u001b[0m\n",
      "\u001b[0;32m<ipython-input-105-1944e9659f5e>\u001b[0m in \u001b[0;36m<lambda>\u001b[0;34m(u, v)\u001b[0m\n\u001b[1;32m      7\u001b[0m \u001b[0mprint\u001b[0m\u001b[0;34m(\u001b[0m\u001b[0mpair_dist\u001b[0m\u001b[0;34m)\u001b[0m\u001b[0;34m\u001b[0m\u001b[0m\n\u001b[1;32m      8\u001b[0m \u001b[0;34m\u001b[0m\u001b[0m\n\u001b[0;32m----> 9\u001b[0;31m \u001b[0mdbscan\u001b[0m \u001b[0;34m=\u001b[0m \u001b[0mDBSCAN\u001b[0m\u001b[0;34m(\u001b[0m\u001b[0meps\u001b[0m\u001b[0;34m=\u001b[0m\u001b[0;36m0.7\u001b[0m\u001b[0;34m,\u001b[0m \u001b[0mmin_samples\u001b[0m\u001b[0;34m=\u001b[0m\u001b[0;36m4\u001b[0m\u001b[0;34m,\u001b[0m \u001b[0mmetric\u001b[0m\u001b[0;34m=\u001b[0m\u001b[0;32mlambda\u001b[0m \u001b[0mu\u001b[0m\u001b[0;34m,\u001b[0m\u001b[0mv\u001b[0m\u001b[0;34m:\u001b[0m \u001b[0msum\u001b[0m\u001b[0;34m(\u001b[0m\u001b[0mu\u001b[0m\u001b[0;34m&\u001b[0m\u001b[0mv\u001b[0m\u001b[0;34m)\u001b[0m\u001b[0;34m,\u001b[0m \u001b[0mn_jobs\u001b[0m\u001b[0;34m=\u001b[0m\u001b[0;34m-\u001b[0m\u001b[0;36m1\u001b[0m\u001b[0;34m)\u001b[0m\u001b[0;34m\u001b[0m\u001b[0m\n\u001b[0m\u001b[1;32m     10\u001b[0m \u001b[0;34m\u001b[0m\u001b[0m\n\u001b[1;32m     11\u001b[0m \u001b[0mpred\u001b[0m \u001b[0;34m=\u001b[0m \u001b[0mdbscan\u001b[0m\u001b[0;34m.\u001b[0m\u001b[0mfit_predict\u001b[0m\u001b[0;34m(\u001b[0m\u001b[0mpair_dist\u001b[0m\u001b[0;34m)\u001b[0m\u001b[0;34m\u001b[0m\u001b[0m\n",
      "\u001b[0;31mTypeError\u001b[0m: ufunc 'bitwise_and' not supported for the input types, and the inputs could not be safely coerced to any supported types according to the casting rule ''safe''"
     ]
    }
   ],
   "source": [
    "from sklearn.cluster import DBSCAN\n",
    "# show_cluster_result(model)\n",
    "pair_dist = DistanceMetric.get_metric('jaccard').pairwise(vectorized_urlkeys.todense())\n",
    "# pair_dist =\n",
    "# replace nan by 1\n",
    "ind_zeros = np.where(np.isnan(pair_dist))\n",
    "pair_dist[ind_zeros] = 1.\n",
    "print(pair_dist)\n",
    "\n",
    "dbscan = DBSCAN(eps=0.7, min_samples=4, metric='precomputed', n_jobs=-1)\n",
    "\n",
    "pred = dbscan.fit_predict(pair_dist)\n",
    "print(pred)"
   ]
  },
  {
   "cell_type": "code",
   "execution_count": 79,
   "metadata": {},
   "outputs": [
    {
     "name": "stdout",
     "output_type": "stream",
     "text": [
      "#### cluster -1 with count: 375 ####\n",
      "dict_keys(['fun-times', 'outdoors', 'diningout', 'adventure', 'entrepreneurship', 'singles', 'social', 'socialnetwork', 'newintown', 'self-improvement'])\n",
      "#### cluster 6 with count: 123 ####\n",
      "dict_keys(['fun-times', 'professional-networking', 'diningout', 'adventure', 'entrepreneurship', 'outdoors', 'social', 'socialnetwork', 'newintown', 'self-improvement'])\n",
      "#### cluster 13 with count: 111 ####\n",
      "dict_keys(['fun-times', 'softwaredev', 'diningout', 'nightlife', 'livemusic', 'outdoors', 'social', 'newintown', 'socialnetwork', 'adventure'])\n",
      "#### cluster 1 with count: 82 ####\n",
      "dict_keys(['fun-times', 'outdoors', 'diningout', 'adventure', 'social', 'socialnetwork', 'softwaredev', 'newintown', 'newtech', 'self-improvement'])\n",
      "#### cluster 8 with count: 46 ####\n",
      "dict_keys(['fitness', 'sports', 'diningout', 'socialnetwork', 'singles', 'outdoors', 'newintown', 'computer-programming', 'fun-times', 'excercise'])\n",
      "#### cluster 15 with count: 45 ####\n",
      "dict_keys(['social', 'travel', 'newintown', 'nightlife', 'adventure', 'hiking', 'outdoors', 'socialnetwork', 'singles', 'fun-times'])\n",
      "#### cluster 12 with count: 29 ####\n",
      "dict_keys(['outdoors', 'recreational-sports', 'diningout', 'socialnetwork', 'hiking', 'social', 'newintown', 'excercise', 'fitness', 'self-improvement'])\n",
      "#### cluster 3 with count: 22 ####\n",
      "dict_keys(['opensource', 'wellness', 'web-development', 'entrepreneurship', 'softwaredev', 'fun-times', 'mobile-technology', 'self-improvement', 'photography-classes', 'energy-healing'])\n",
      "#### cluster 5 with count: 16 ####\n",
      "dict_keys(['dating-and-relationships', 'google-analytics', 'womens-networking', 'diningout', 'social', 'socialnetwork', 'self-exploration', 'newintown', 'professional-singles', 'amazon-web-services'])\n",
      "#### cluster 17 with count: 16 ####\n",
      "dict_keys(['culture-exchange', 'dating-and-relationships', 'singles-30s-50s', 'newintown', 'outdoors', 'singles', 'social', 'socialnetwork', 'fun-times', 'self-improvement'])\n"
     ]
    }
   ],
   "source": [
    "show_cluster_result(dbscan)"
   ]
  },
  {
   "cell_type": "code",
   "execution_count": 80,
   "metadata": {},
   "outputs": [
    {
     "name": "stdout",
     "output_type": "stream",
     "text": [
      "#### cluster 3 with count: 22 ####\n",
      "45                                             [eating-drinking-talking-laughing-etc, locals-new-in-town]\n",
      "46    [beppegrillo, politica, decrescita, energie-rinnovabili, music, carrara, common-good, movimento-...\n",
      "47    [hiking, lgbtfriends, womens-hiking, Lesbian, lesbian-friends, straight-and-gay-welcome, san-fra...\n",
      "48    [containers, kubernetes, google-cloud-platform, machine-learning, big-data, cloud-computing, ten...\n",
      "50    [personal-development, self-improvement, social-anxiety, communication-skills, toastmasters, pro...\n",
      "51                           [figuredrawing, fine-arts, sketching, draw, life-drawing, free-hand-drawing]\n",
      "52    [alternative-medicine, guided-meditation, energy-healing, channeling, past-lives, akashic-record...\n",
      "53                                  [computer-programming-c-c, c, c-c, software-engineering, softwaredev]\n",
      "54    [group-photo-shoots, photo-walks, location-photography, amateur-photography, street-photography,...\n",
      "55    [nutrition, healthy-moms, healthy-eating, wellness, new-moms, babies, fun-times, playgroup, sahm...\n",
      "56    [meditation, spiritual-healing, self-exploration, transformation, spirituality, energy-healing, ...\n",
      "58    [group-photo-shoots, photo-walks, location-photography, amateur-photography, street-photography,...\n",
      "59    [spanish-english-language-exchange, socialnetwork, culture-exchange, espanol, spanish-culture, s...\n",
      "60    [cq5, webdesign, softwaredev, apache-sling, ria, internetpro, web, web-development, online-marke...\n",
      "61    [java, entrepreneurship, opensource, newtech, web-development, technology, softwaredev, mobile-t...\n",
      "62                                   [coffee, girlfriends, trivia, women, picnics, pubs-bars, game-night]\n",
      "64    [language, professional-networking, entrepreneurship, bubble-tea, activities, coffee, socialnetw...\n",
      "65    [ruby, softwaredev, web-development, computer-programming, ruby-on-rails, installing-ruby-on-rails]\n",
      "67    [entrepreneurship, startup-businesses, cryptocurrency, digital-currency, bitcoin, investing, ope...\n",
      "68    [opensource, softwaredev, web, web-development, mobile-technology, android-developers, ios, ios-...\n",
      "69    [wellness, hiking, walkers, wilderness-hiking, outdoors, outdoor-fitness, outdoor-adventures, ad...\n",
      "71    [businessintell, big-data, machine-learning, data-analytics, data-visualization, predictive-anal...\n",
      "Name: urlkeys, dtype: object\n"
     ]
    }
   ],
   "source": [
    "print_cluster(dbscan, 3)"
   ]
  },
  {
   "cell_type": "code",
   "execution_count": 81,
   "metadata": {
    "collapsed": true
   },
   "outputs": [],
   "source": [
    "# compute distance matrix\n",
    "from scipy.spatial.distance import pdist, squareform\n",
    "from sklearn.neighbors import DistanceMetric"
   ]
  },
  {
   "cell_type": "code",
   "execution_count": 200,
   "metadata": {},
   "outputs": [
    {
     "data": {
      "text/plain": [
       "array([[ 0.  ,  0.75],\n",
       "       [ 0.75,  0.  ]])"
      ]
     },
     "execution_count": 200,
     "metadata": {},
     "output_type": "execute_result"
    }
   ],
   "source": [
    "T = [[0,1,1,0,1],[0,0,1,1,0]]\n",
    "DistanceMetric.get_metric('jaccard').pairwise(T)"
   ]
  },
  {
   "cell_type": "code",
   "execution_count": 114,
   "metadata": {
    "collapsed": true
   },
   "outputs": [],
   "source": [
    "def tristan_distance(u, v):\n",
    "    u_and_v = sum(u & v)\n",
    "    if u_and_v == 0:\n",
    "        return 1\n",
    "    else:\n",
    "        return 1/u_and_v"
   ]
  },
  {
   "cell_type": "code",
   "execution_count": 115,
   "metadata": {},
   "outputs": [],
   "source": [
    "X_bin = vectorizer.fit_transform(X[:500])\n",
    "# X_bin.todense()\n",
    "y = pdist(X_bin.todense(), metric=tristan_distance)\n",
    "X_train = squareform(y)"
   ]
  },
  {
   "cell_type": "code",
   "execution_count": 116,
   "metadata": {},
   "outputs": [
    {
     "data": {
      "text/plain": [
       "array([[ 0.        ,  1.        ,  1.        , ...,  1.        ,\n",
       "         1.        ,  1.        ],\n",
       "       [ 1.        ,  0.        ,  0.07692308, ...,  1.        ,\n",
       "         1.        ,  1.        ],\n",
       "       [ 1.        ,  0.07692308,  0.        , ...,  1.        ,\n",
       "         1.        ,  1.        ],\n",
       "       ..., \n",
       "       [ 1.        ,  1.        ,  1.        , ...,  0.        ,\n",
       "         1.        ,  1.        ],\n",
       "       [ 1.        ,  1.        ,  1.        , ...,  1.        ,\n",
       "         0.        ,  0.5       ],\n",
       "       [ 1.        ,  1.        ,  1.        , ...,  1.        ,\n",
       "         0.5       ,  0.        ]])"
      ]
     },
     "execution_count": 116,
     "metadata": {},
     "output_type": "execute_result"
    }
   ],
   "source": [
    "X_train"
   ]
  },
  {
   "cell_type": "code",
   "execution_count": 120,
   "metadata": {},
   "outputs": [
    {
     "name": "stdout",
     "output_type": "stream",
     "text": [
      "[-1 -1 -1  0  0  0 -1  0  0  0  0  0  0  0  0  0  0  0  0  0  0  0  0  0  0\n",
      "  0  0  0  0 -1 -1 -1 -1 -1 -1  0 -1 -1 -1 -1 -1  0  0 -1 -1  1  1  1  1  1\n",
      "  1  1  1  1  1  1  1  1  1  1  1  1  1 -1  1  1  1  1  1  1  1  1 -1  1 -1\n",
      " -1  1 -1  1  1  1 -1 -1  0  0  0  0  0  0  0  0  0 -1  0  0  0  0  0 -1  2\n",
      "  2  2  2 -1 -1 -1  1 -1  1 -1 -1  0 -1  0 -1  0  0  0 -1 -1  0  0  0 -1  0\n",
      "  0  0  0  0  0  0  0  0  0  0  0  0  0 -1  0  0  0  0  0  0  0  0  0  0  0\n",
      "  0  0  0 -1  0  0  0 -1 -1  0  0  0  0  0  0  0 -1 -1  0  0  0  0  0  0  0\n",
      "  0  0 -1  0 -1  0  0 -1 -1 -1 -1 -1 -1 -1 -1 -1 -1 -1 -1 -1  0 -1 -1 -1 -1\n",
      " -1  0 -1 -1 -1 -1 -1 -1 -1 -1  0 -1 -1 -1 -1  0  0  0  0 -1  0  0  0  0  0\n",
      "  0 -1  0 -1  0  0  0  0 -1 -1  0  0  0  0 -1  0  0  0 -1  0  0 -1 -1  0  0\n",
      "  0  0  0  0  0 -1 -1  0 -1 -1  0  0  0  0  0  0  0 -1  0  0 -1  0  0  0  0\n",
      "  0  0  0  0  0  0  0  0  0  0  0  0  0  0  0 -1  0  0  0  0  0  0 -1  0 -1\n",
      "  0  0  0  0  0  0  0  0 -1 -1 -1 -1 -1 -1  5 -1 -1 -1 -1 -1 -1 -1 -1  0  0\n",
      "  3  3 -1  3  3  3 -1 -1 -1 -1  4  4  4  4  4  4  4  4  4  4 -1  4  5  5  5\n",
      "  5  5  5  4 -1  4  4 -1  4  4 -1 -1 -1  4 -1  4 -1  4  4  4 -1  4  4  4  4\n",
      "  4 -1 -1 -1 -1 -1 -1 -1  5  5  5  5  5  5  5  5  5  5  5  5  5  5  5 -1  5\n",
      "  5  5  5  5 -1  5  5  5  5  5  5  5 -1  5 -1  5  5  5  5  5  5  5  5  5  5\n",
      "  5  5 -1  5  5 -1  5  5  5  5  5  5  5  5  5  5  5  5  5  5  5  5  5  5  5\n",
      "  5  5  5  5  5  5  5  5  5 -1  5  5  5  5  5  5  5  5  5  5  5  5  5  5  5\n",
      "  5  5  5  5  5  5  5  5  5  5  5  5  5 -1  5  5  5  5  5 -1 -1 -1 -1 -1  0]\n"
     ]
    }
   ],
   "source": [
    "dbscan = DBSCAN(eps=0.2, min_samples=4, metric='precomputed', n_jobs=-1)\n",
    "\n",
    "pred = dbscan.fit_predict(X_train)\n",
    "print(pred)"
   ]
  },
  {
   "cell_type": "code",
   "execution_count": 121,
   "metadata": {},
   "outputs": [
    {
     "name": "stdout",
     "output_type": "stream",
     "text": [
      "#### cluster 0 with count: 181 ####\n",
      "dict_keys(['fun-times', 'outdoors', 'diningout', 'adventure', 'singles', 'social', 'newintown', 'computer-programming', 'softwaredev', 'socialnetwork'])\n",
      "#### cluster -1 with count: 141 ####\n",
      "dict_keys(['outdoors', 'diningout', 'adventure', 'socialnetwork', 'social', 'fun-times', 'language', 'singles', 'newintown', 'hiking'])\n",
      "#### cluster 5 with count: 110 ####\n",
      "dict_keys(['fun-times', 'outdoors', 'diningout', 'nightlife', 'adventure', 'entrepreneurship', 'hiking', 'social', 'newintown', 'socialnetwork'])\n",
      "#### cluster 1 with count: 33 ####\n",
      "dict_keys(['outdoors', 'fitness', 'web-development', 'any-activities-both-indoor-and-outdoor', 'entrepreneurship', 'singles', 'softwaredev', 'excercise', 'newintown', 'hiking'])\n",
      "#### cluster 4 with count: 26 ####\n",
      "dict_keys(['hiking', 'diningout', 'adventure', 'entrepreneurship', 'outdoors', 'social', 'newintown', 'excercise', 'fitness', 'self-improvement'])\n",
      "#### cluster 3 with count: 5 ####\n",
      "dict_keys(['free-in-new-york-city', 'wellness', 'web-development', 'women-entrepreneurs', 'cloud-deployment', 'social', 'rawfood', 'self-improvement', 'animals', 'animalwelfare'])\n",
      "#### cluster 2 with count: 4 ####\n",
      "dict_keys(['wellness', 'business-entrepreneur-networking', 'small-business-owners', 'workout-bootcamp', 'healthy-living', 'bootcamps', 'self-improvement', 'qsmap', 'fitness', 'smallbiz'])\n"
     ]
    },
    {
     "name": "stderr",
     "output_type": "stream",
     "text": [
      "/Users/tristan/anaconda3/lib/python3.5/site-packages/pandas/core/internals.py:252: VisibleDeprecationWarning: boolean index did not match indexed array along dimension 0; dimension is 1000 but corresponding boolean dimension is 500\n",
      "  return self.values[slicer]\n",
      "/Users/tristan/anaconda3/lib/python3.5/site-packages/pandas/indexes/base.py:1434: VisibleDeprecationWarning: boolean index did not match indexed array along dimension 0; dimension is 1000 but corresponding boolean dimension is 500\n",
      "  result = getitem(key)\n"
     ]
    }
   ],
   "source": [
    "show_cluster_result(dbscan)"
   ]
  },
  {
   "cell_type": "code",
   "execution_count": 123,
   "metadata": {},
   "outputs": [
    {
     "name": "stderr",
     "output_type": "stream",
     "text": [
      "/Users/tristan/anaconda3/lib/python3.5/site-packages/ipykernel_launcher.py:1: ClusterWarning: scipy.cluster: The symmetric non-negative hollow observation matrix looks suspiciously like an uncondensed distance matrix\n",
      "  \"\"\"Entry point for launching an IPython kernel.\n"
     ]
    },
    {
     "data": {
      "text/plain": [
       "<matplotlib.text.Text at 0x1256294e0>"
      ]
     },
     "execution_count": 123,
     "metadata": {},
     "output_type": "execute_result"
    },
    {
     "data": {
      "image/png": "[encoded data removed]",
      "text/plain": [
       "<matplotlib.figure.Figure at 0x1216227f0>"
      ]
     },
     "metadata": {},
     "output_type": "display_data"
    }
   ],
   "source": [
    "R = dendrogram(linkage(X_train, method='average'))\n",
    "plt.xlabel('points')\n",
    "plt.ylabel('Height')\n",
    "plt.title('Cluster Dendrogram')"
   ]
  },
  {
   "cell_type": "code",
   "execution_count": 127,
   "metadata": {},
   "outputs": [
    {
     "name": "stderr",
     "output_type": "stream",
     "text": [
      "/Users/tristan/anaconda3/lib/python3.5/site-packages/ipykernel_launcher.py:3: VisibleDeprecationWarning: boolean index did not match indexed array along dimension 0; dimension is 500 but corresponding boolean dimension is 499\n",
      "  This is separate from the ipykernel package so we can avoid doing imports until\n"
     ]
    },
    {
     "data": {
      "text/plain": [
       "192    [womens-support, womens-networking, professional-women, fashion-and-style, women-entrepreneurs, ...\n",
       "196    [womens-support, womens-networking, professional-women, fashion-and-style, women-entrepreneurs, ...\n",
       "149    [opensource, newtech, cloud-computing, hadoop, big-data, mapreduce, data-visualization, predicti...\n",
       "128    [fitness, singles, diningout, movies, newintown, travel, nightlife, socialnetwork, women, fun-ti...\n",
       "135    [fitness, singles-30s-and-40s, 30s, women-over-40, 30s-and-40s, hiking, newintown, socialnetwork...\n",
       "127    [brit, american, diningout, expatgerman, indian, newintown, expatnewzealander, expatfrench, exch...\n",
       "133    [astrology, metaphysics, psychics, spiritualism, self-improvement, lawofattraction, new-age, spi...\n",
       "141    [musicians, live-jazz-music, attend-live-blues-performances, live-blues, singles, newintown, nig...\n",
       "121                                                                                                 [acim]\n",
       "152    [lisp, programming-languages, computer-programming, scala, haskell, functional-programming, cloj...\n",
       "139    [womens-fitness, singles, newintown, volleyball, indoor-volleyball, sports, outdoor-volleyball, ...\n",
       "164    [c, computer-programming, softwaredev, computer-science, opensource, lean-startup, agile-project...\n",
       "168    [dancing, adventure, camping, live-theatre-musical-theatre, fun-times, hiking-biking-outdoors-so...\n",
       "171                                                                                 [pickupsoccer, soccer]\n",
       "170    [newintown, recreational-sports, social, wellness, outdoor-fitness, singles, cricket, sports, pl...\n",
       "151    [social, newintown, exchangestud, socialnetwork, expat, language, international-travel, language...\n",
       "163    [badminton, sports-and-socials, sunday-shuttlers-workout-have-fun-and-lunch-meet, pick-up-badmin...\n",
       "122    [linux, cloud-computing, devops, paas, virtualization, infrastructure-as-code, continuous-delive...\n",
       "123    [poetry, screenwriters, bookclub, fiction, literature, creative-writing, reading, authors, writi...\n",
       "132    [nflfootball, fitness, singles, newintown, flagfootball, womensports, sports, soccer, outdoors, ...\n",
       "137    [community-service, women-over-40, strictly-ladies-only, socialnetwork, self-improvement, charit...\n",
       "158    [landlords, investing, real-estate-networking, real-estate-investors, financial-freedom, real-es...\n",
       "131    [transformation, meditation, self-improvement, stress-relief, awakening, spirituality, lifetrans...\n",
       "174    [lisp, programming-languages, computer-programming, scala, haskell, functional-programming, cloj...\n",
       "167    [esl, japanese-food, japanese-language, self-improvement, language, hobbies, healthy-living, sig...\n",
       "134    [softwaredev, google, newtech, mobile-technology, android, android-developers, mobile-developmen...\n",
       "162    [prodev, professional-networking, smallbiz, marketing, business-strategy, online-marketing, smal...\n",
       "140    [business-entrepreneur-networking, internet-startups, mobile-development, computer-programming, ...\n",
       "166    [womens-fitness, singles, newintown, volleyball, indoor-volleyball, sports, outdoor-volleyball, ...\n",
       "169           [job-search, prodev, professional-networking, networking-for-job-seekers, hidden-job-market]\n",
       "                                                      ...                                                 \n",
       "327    [lgbtq, queer-socializing, trans-gender-queer-queer-and-queer-friendly-peeps, lgbt-social-group,...\n",
       "333                        [craft-beer, beach-volleyball, nba-basketball, backgammon, winter-sports, pool]\n",
       "32                           [java, computer-programming, softwaredev, opensource, newtech, jvm-languages]\n",
       "33     [singles, livemusic, nightlife, newintown, dancing, adventure, fun-times, social, socialnetwork,...\n",
       "206                                                             [hiking, outdoors, adventure, backpacking]\n",
       "207    [internetpro, social-media, building-an-online-business, online-marketing, entrepreneurship, sta...\n",
       "322    [spanish, italian, french, german, portuguese, russian, arabic, exchangestud, language, japanese...\n",
       "258    [smallbiz, marketing, business-referral-networking, women-entrepreneurs, web-development, profes...\n",
       "243    [gardening, permaculture, sustainability, homesteading, canning, herbal-gardening-horticulture, ...\n",
       "103    [outdoors, diningout, 20s-and-30s, young-professional-singles, newintown, adventure, day-trips, ...\n",
       "104                     [hiking, backpacking, skiing, alpine-climbing, kayaking, rockclimbing, wilderness]\n",
       "109    [wine, hiking, diningout, travel, couples, nightlife, outdoors, dogs, fun-times, wine-tasting, a...\n",
       "105    [singles, livemusic, nightlife, newintown, dancing, adventure, fun-times, social, socialnetwork,...\n",
       "81     [networkmarket, self-improvement, newtech, singles, social, newintown, business-strategy, entrep...\n",
       "40     [hiking, walkers, canoe, bike, kayaking, camping, backpacking, social, fun-times, adventure, exc...\n",
       "31     [innovation, professional-networking, productdesign, user-experience, usability, ux-design, prod...\n",
       "0      [data-science, big-data, data-visualization, data-mining, machine-learning, big-data-analytics, ...\n",
       "29     [python, agile-programming, django, programming-languages, functional-programming, computer-prog...\n",
       "213    [affiliate-marketing, google-adwords, seo-search-engine-optimization, email-campaign-marketing, ...\n",
       "118    [dotnet, csharp, softwaredev, newtech, cloud-computing, microsoft-sharepoint-technology, microso...\n",
       "205    [singles, livemusic, nightlife, newintown, dancing, adventure, fun-times, social, socialnetwork,...\n",
       "357    [wellness, self-improvement, sound-healing, spirituality, alternative-medicine, crystal-bowls, m...\n",
       "228    [entrepreneurship, digital-health, health-information-technology, healthpros, newtech, professio...\n",
       "317    [vegan, vegan-entrepreneur, plant-based-entrepreneur, plant-based, startup-businesses, entrepren...\n",
       "497    [diningout, movies, newintown, nightlife, livemusic, film, outdoors, fun-times, dinner-and-a-mov...\n",
       "376    [bike, kayaking, hiking, diningout, paddling, comedy, art, travel, language, outdoors, intellect...\n",
       "494    [real-estate-investors, real-estate-investing, real-estate, real-estate-investment-education, re...\n",
       "414    [travel, outdoors, wine-tasting, wine-lovers, adventure, weekend-adventures, wine-education, tou...\n",
       "313    [poetry, bookclub, fiction, creative-writing, reading, authors, writing, novel-writing, english-...\n",
       "314    [collaboration-between-creative-minds, boston-artists, drinking, pubs-bars, groupart, fine-arts,...\n",
       "Name: urlkeys, dtype: object"
      ]
     },
     "execution_count": 127,
     "metadata": {},
     "output_type": "execute_result"
    }
   ],
   "source": [
    "color_list = np.array(R['color_list'])\n",
    "leaves = np.array(R['leaves'])\n",
    "pdf.urlkeys[leaves[color_list=='c']]"
   ]
  },
  {
   "cell_type": "code",
   "execution_count": 134,
   "metadata": {},
   "outputs": [],
   "source": [
    "n_urlkeys = np.sum(vectorizer.fit_transform(pdf.urlkeys).todense(), axis=1)"
   ]
  },
  {
   "cell_type": "code",
   "execution_count": 157,
   "metadata": {},
   "outputs": [
    {
     "data": {
      "text/plain": [
       "<matplotlib.text.Text at 0x125688860>"
      ]
     },
     "execution_count": 157,
     "metadata": {},
     "output_type": "execute_result"
    },
    {
     "data": {
      "image/png": "[encoded data removed]",
      "text/plain": [
       "<matplotlib.figure.Figure at 0x12301d080>"
      ]
     },
     "metadata": {},
     "output_type": "display_data"
    }
   ],
   "source": [
    "\n",
    "df = pd.DataFrame(list(map(lambda item: len(item), X)))\n",
    "df.hist()\n",
    "plt.title(\"urlkeys count\")\n",
    "plt.xlabel(\"# of urlkeys\")\n",
    "plt.ylabel(\"count\")"
   ]
  },
  {
   "cell_type": "code",
   "execution_count": null,
   "metadata": {
    "collapsed": true
   },
   "outputs": [],
   "source": []
  }
 ],
 "metadata": {
  "kernelspec": {
   "display_name": "Python 3",
   "language": "python",
   "name": "python3"
  },
  "language_info": {
   "codemirror_mode": {
    "name": "ipython",
    "version": 3
   },
   "file_extension": ".py",
   "mimetype": "text/x-python",
   "name": "python",
   "nbconvert_exporter": "python",
   "pygments_lexer": "ipython3",
   "version": "3.5.3"
  }
 },
 "nbformat": 4,
 "nbformat_minor": 2
}
