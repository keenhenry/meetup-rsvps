{
 "cells": [
  {
   "cell_type": "markdown",
   "metadata": {},
   "source": [
    "## Dataset\n",
    "\n",
    "Dataset is from Meetup RSVP streaming API. Each observation is a users response rsvp=yes/no to a certain event hosted by a certain group, which is associated with various tags (called urlkey)\n",
    "\n",
    "See diagram below:\n",
    "\n",
    "![](img/datamodel-crop.png)"
   ]
  },
  {
   "cell_type": "markdown",
   "metadata": {},
   "source": [
    "### Sample Data\n",
    "\n",
    "We have real-time streamed rsvp data with the following information:\n",
    "\n",
    "| event_name    | group_name    | urlkey| response |\n",
    "| ------------- |:-------------:|:-----:|---------:|\n",
    "| Nine Famous Graphs and How to Make them Interactive     | SF Data Science | [data-science, big-data, data-visualization, data-mining, machine-learning, big-data-analytics, softwaredev, data-analytics, data-scientist, python, open-data, mapreduce, real-time-analytics, data-journalism, data] | yes |\n",
    "|Steilacoom Guided Walk 5 or 10km - Traditional Volksmarch            |South Sound Walkers Meetup Group|[walkers, volkssport, fitness, outdoors] | yes |\n",
    "|Business Event:  Speed Networking at Magnolia's Pub                  |Jacksonville Young Professionals|[diningout, women, outdoors, travel, newintown, fun-times, young-professionals, professional-networking, business-entrepreneur-networking, small-business-networking, adventure, bucket-list, social, weekend-adventures, professional]        | no |"
   ]
  },
  {
   "cell_type": "markdown",
   "metadata": {},
   "source": [
    "## Problem Definition\n",
    "\n",
    "The goal of this experiment is to use ML to categorzie the groups into clusters, then potentially apply supervised learning models to classify future rsvp feeds.\n",
    "\n",
    "The intuition is, each event/group is related to particular topic category, e.g. outdoor activities, tech (since it's SF), sports, culture, etc. Groups similarity can be defined after studying urlkeys, as urlkeys are more likely to overlap within similar groups."
   ]
  },
  {
   "cell_type": "markdown",
   "metadata": {},
   "source": [
    "## Model Selection\n",
    "\n",
    "There're two selection involved in the process. \n",
    "\n",
    "* First, choose a proper distance metric to best model similarity between observations\n",
    "* Second, choose a clustering model to fit_predict using selected distance metric\n",
    "\n",
    "### Distance Metrics\n",
    "Considered existing distance metric:\n",
    "* cityblock (L1)\n",
    "* hamming\n",
    "* jaccard\n",
    "\n",
    "__jaccard__ Distance Metric will minimize the impact of dimenssionality curse, because it is a \"bit-wise similarity distance\" metric, range from [0,1], where 0 being identical and 1 being most remote. In particular, it computes:\n",
    "\n",
    "$$distance = \\frac{NNEQ}{NNZ}$$ where $NNEQ$ is number of non-equal dimensions and $NNZ$ is number of nonzero dimensions\n",
    "\n",
    "The particular challenge of this dataset is, the overall average # of urlkeys per group is relatively low (10+), v.s. total # of unique urlkeys is 5000+ (sparse matrix). The diagram below is a histogram of # of urlkeys per observation against count of observation.\n",
    "\n",
    "![](img/urlkeys_count.png)\n",
    "\n",
    "__jaccard__ distance metric will consider \"non-intersect\" over \"union length\", which is a good mesurement of similarity and free of the curse.\n",
    "\n",
    "### Clustering Model\n",
    "\n",
    "\n",
    "For clustering task, the idea is to use urlkey (as tags) to infer a group association. However, the challenge is, flatening each observation's urlkeys will generate a high dimenssion training dataset (# of dimenssion = # of unique urlkeys), where the real meaning of distance will be weakened and subject to the curse (not as much since we're talking about binary values, but the curse is still there)\n",
    "\n",
    "#### Model and Distance Metric Selection\n",
    "\n",
    "The clustering models available for selection is:\n",
    "* K-means\n",
    "* DBSCAN\n",
    "* Hierarchical Clustering\n",
    "\n",
    "Among the above, __Hierarchical Clustering__ is chosen as clustering model, with __jaccard__ Distance Metric. \n",
    "\n",
    "The reason for choosing hierarchical clustering is because the way hierarchical clustering work that we can control to truncate the height of hierarchical tree at the desired level of generalization judged from plotted dendrogram, in this way, it's easier to visualize result interactively.\n",
    "\n",
    "#### Result of Experiment\n",
    "\n",
    "The following shows the difference between `linkage='complete'` and `linkage='average'`. The difference is the way to compute cluster merging criteria:\n",
    "* `linkage='complete'` will look at max distance between two clusters, to decide merge\n",
    "* `linkage='average'` will look at average distance between two clusters, to decide merge\n",
    "\n",
    "Since clustering is unsupervised learning, the __Silhouette Coefficient__ is used to decide the performance of clustering. The intuition is to have a good silhouette_score, which indicates a good separation between clusters.\n",
    "\n",
    "The result of __Hierarchical Agglomerative Clustering__ with __jaccard__ distance metric using 1000 unique urlkeys gives the following result:\n",
    "\n",
    "![](img/complete_jaccard_1000.png)\n",
    "\n",
    "![](img/average_jaccard_1000.png)\n",
    "\n",
    "With silhouette_score as 0.0033425705612539652 and 0.01446837734238306 respectively. \n",
    "\n",
    "In comparison, a second clustering model of __DBSCAN__ with __jaccard__ distance metrc is experimeted, which gives a silhouette_score of 0.080590525862305792. Grid search did not improve the silhouette_score significantly.\n",
    "\n",
    "#### Analyize the Cause\n",
    "\n",
    "It looks like clustering does not bring meaningful information, or the problem is not separable by the way I framed and tackled it. Let's think about the reason here.\n",
    "\n",
    "In order for clustering to work, the distance metric shall generate a \"clusterable\" distance matrix. However, the suspection is, we don't have enough overlapping urlkeys in order to generate significant __jaccard__ distance to \"separate\" our clusters. A quick look as below proves this theory.\n",
    "\n",
    "![](img/common_urlkeys.png)\n",
    "\n",
    "The diagram above shows that, the most common urlkey is shared by 10% of observations, and this percentage drops fast (100th common urlkey is shared by 2% of observations). \n",
    "\n",
    "On the other hand, averagely, each observation has 10 urlkeys, and 4 of them is shared with others. \n",
    "\n",
    "It is possible that urlkeys are mixed (e.g. A's first half is similar to B, second half is similar to C), and the choice of metric distance may not be good enough to distinguish (e.g. which half is shared with which group), in other words, with the choice of metric distance, everyone is more or less equaly close to each other.\n",
    "\n",
    "Trying other distance metrics is not improving the silouette_score.\n",
    "\n",
    "WARNING: \n",
    "\n",
    "The initial chosen clustering model is __AgglomerativeClustering__, until I discovered that sklearn AgglomerativeClustering `affinity='jaccard'` is using `scipy.distance.pdist()` to compute `jaccard` distance, which computes positional \"bit wise\" distance between `u[i]` and `v[i]`. It is not the same as `sklearn.neighbor.DistanceMetric` implementation as illustrated above. \n",
    "\n",
    "To fix,following options are available:\n",
    "* change source code of `scipy.cluster.hierarchy.py >>> line 671`\n",
    "* precompute distance matrix and use AgglomerativeClustering `affinity='precomputed'` option\n",
    "* precompute distance matrix (1D array) and use dendrogram \n"
   ]
  },
  {
   "cell_type": "markdown",
   "metadata": {},
   "source": [
    "## Conclusion\n",
    "\n",
    "By using only urlkeys and trying to find a proper distance metric to cluster rsvps is not yielding meaningful result. Other approaches for clustering shall be researched.\n"
   ]
  },
  {
   "cell_type": "markdown",
   "metadata": {},
   "source": [
    "## Future\n",
    "\n",
    "### Other approaches for Clustering\n",
    "\n",
    "One hint for clustering is to use Nonnegative Matrix Factorization (NMF) technique to extract latent topics from description and urlkeys concatenated. In the EDA it is experimented and yields meaningful result where keywords falls into major categories of topics, such as tech, life, culture, fitness, etc...\n",
    "\n",
    "The hint is to use popular NMF topics and try to find a distance metric to cluster towards those popular topics (as if they're KMeans centers/medoids)\n",
    "\n",
    "### Classification Model\n",
    "\n",
    "Assuming Clustering Model will generate 1 cluster label per observation, we can train a Classification Model to predict cluster label from given text or other features from observation.\n",
    "\n",
    "The requirement is:\n",
    "* multiple classes classification\n",
    "* natual language text as features >> potentially high dimenssion\n",
    "* preferably to be able to execute in parallel\n",
    "\n",
    "We may use ensemble method such as __RandomForestClassifier__ to parallelize execution:\n",
    "* it can handle multiple classes classification\n",
    "* able to handle high dimenssion because the splitting is not based on pair-wise distance, but on impurity score\n",
    "* natual language text can be vectorized using TF-IDF or other method\n",
    "* it is embarassingly parallel"
   ]
  },
  {
   "cell_type": "markdown",
   "metadata": {
    "collapsed": true
   },
   "source": [
    "### Pseudocode for Hierarchical Agglomerative Clustering\n",
    "\n",
    "```\n",
    "def distance(A, B, metric='euclidean', method='ward'):\n",
    "    \"\"\" compute distance between cluser A and B\n",
    "    A: cluster A, list of observations\n",
    "    B: cluster B, list of observations\n",
    "    metric: definition of distance metric\n",
    "        - 'euclidean'\n",
    "        - 'cityblock'\n",
    "        - 'jaccard'\n",
    "        - ...\n",
    "    method: the criteria to merge/split two clusters\n",
    "        - 'average': average distance between each pair of observations in A and B\n",
    "        - 'complete': maximum distance between each pair of observations in A and B\n",
    "        - 'ward': euclidean distance between each pair of observations in A and B\n",
    "    \"\"\"\n",
    "    # compute distance between cluster A and B, according to metric and method\n",
    "    \n",
    "def cluster(X):\n",
    "    clusters = X  # each point in X forms its own cluster\n",
    "    while n_clusters > desired_n_clusters:\n",
    "        compute pairwise distance for each A and B in clusters\n",
    "        find the min distance pair, merge A and B to become C\n",
    "        update clusters replacing A and B with C\n",
    "    return clusters\n",
    "```"
   ]
  },
  {
   "cell_type": "markdown",
   "metadata": {},
   "source": [
    "## Appendix: EDA notebook"
   ]
  },
  {
   "cell_type": "code",
   "execution_count": null,
   "metadata": {
    "collapsed": true
   },
   "outputs": [],
   "source": [
    "reset -fs"
   ]
  },
  {
   "cell_type": "code",
   "execution_count": 1,
   "metadata": {
    "collapsed": true
   },
   "outputs": [],
   "source": [
    "import json\n",
    "from sklearn.cluster import AgglomerativeClustering\n",
    "import numpy as np\n",
    "from pyspark.sql.functions import explode, monotonically_increasing_id\n",
    "import pandas as pd\n",
    "from sklearn.feature_extraction.text import CountVectorizer\n",
    "from sklearn.metrics import silhouette_score\n",
    "from scipy.sparse import csr_matrix\n",
    "import time\n",
    "from collections import Counter\n",
    "from sklearn.externals import joblib\n",
    "import matplotlib.pyplot as plt\n",
    "%matplotlib inline"
   ]
  },
  {
   "cell_type": "code",
   "execution_count": 2,
   "metadata": {
    "collapsed": true
   },
   "outputs": [],
   "source": [
    "pd.set_option('display.max_colwidth', 100)"
   ]
  },
  {
   "cell_type": "code",
   "execution_count": 3,
   "metadata": {
    "collapsed": true
   },
   "outputs": [],
   "source": [
    "N_SAMPLES = 1000\n",
    "N_TOPIC = 10\n",
    "N_KEYWORD = 10"
   ]
  },
  {
   "cell_type": "code",
   "execution_count": 4,
   "metadata": {
    "collapsed": true
   },
   "outputs": [],
   "source": [
    "raw_json_rsvps = sc.textFile(\"../../data/export/2017/04/*/*/*\").cache()"
   ]
  },
  {
   "cell_type": "code",
   "execution_count": 5,
   "metadata": {
    "collapsed": true
   },
   "outputs": [],
   "source": [
    "# define vectorizer, to binarize the list of urlkey, explode each row into a binary row vector\n",
    "vectorizer = CountVectorizer(decode_error='ignore', \n",
    "                             analyzer='word', \n",
    "                             preprocessor=lambda urlkeys: ' '.join(urlkeys),\n",
    "                             tokenizer=lambda urlkeys: urlkeys.split(' '),\n",
    "                             stop_words=None, # no stop words\n",
    "                             min_df=1, # min count of 1\n",
    "                             binary=True # count as binary\n",
    "                            )"
   ]
  },
  {
   "cell_type": "code",
   "execution_count": 6,
   "metadata": {
    "collapsed": true
   },
   "outputs": [],
   "source": [
    "# define helper functions\n",
    "\n",
    "from scipy.spatial.distance import pdist, squareform\n",
    "from sklearn.neighbors import DistanceMetric\n",
    "\n",
    "def show_cluster_result(model):\n",
    "    y = model.labels_\n",
    "    top_n_topics = Counter(y).most_common(N_TOPIC)\n",
    "    for label_ind, label_count in np.array(top_n_topics):\n",
    "        print(\"#### cluster {} with count: {} ####\".format(label_ind, label_count))\n",
    "        c = Counter()\n",
    "        pdf[:N_SAMPLES].urlkeys[y == label_ind].apply(lambda row: c.update(row))\n",
    "        print(dict(c.most_common(N_KEYWORD)).keys())\n",
    "        \n",
    "def print_cluster(model, cluster_id):\n",
    "    y = model.labels_\n",
    "    count_topics = Counter(y)\n",
    "    print(\"#### cluster {} with count: {} ####\".format(cluster_id, count_topics[cluster_id]))\n",
    "    print(pdf[:N_SAMPLES].urlkeys[y == cluster_id])\n",
    "    \n",
    "def transform_rsvp(rsvp):\n",
    "    \"\"\"transform json rsvp into tuple: (event_name, group_name, urlkeys, all_text, response), where:\n",
    "    - event_name: text description of event_name\n",
    "    - group_name: text description of group_name\n",
    "    - urlkeys: list of urlkey strings (e.g. ['data-science','machine-learning','networking'])\n",
    "    - all_text: all the above concatenate together, with space deliminated\n",
    "    - response: 'yes' or 'no'\n",
    "    \"\"\"\n",
    "    try:\n",
    "        rsvp = json.loads(rsvp)\n",
    "        urlkeys = [topic['urlkey'] for topic in rsvp.get('group', {}).get('group_topics',[])]\n",
    "        event_name = rsvp.get('event',{}).get('event_name', None)\n",
    "        group_name = rsvp.get('group',{}).get('group_name', None)\n",
    "        response = 1 if rsvp.get('response', 'no') == 'yes' else 0\n",
    "        all_text = event_name + group_name + ' '.join(urlkeys)\n",
    "        return (event_name, group_name, urlkeys, all_text, response)\n",
    "    except ValueError:\n",
    "        return None\n",
    "\n",
    "def get_distance_matrix(X, metric):\n",
    "    \"\"\"1D array of urlkeys list\n",
    "    \"\"\"\n",
    "    vectorized_urlkeys = vectorizer.fit_transform(X)\n",
    "\n",
    "    pair_dist = DistanceMetric.get_metric(metric).pairwise(vectorized_urlkeys.todense())\n",
    "    \n",
    "    # replace nan by 1\n",
    "    if metric == 'jaccard':\n",
    "        ind_zeros = np.where(np.isnan(pair_dist))\n",
    "        pair_dist[ind_zeros] = 1.\n",
    "    return pair_dist"
   ]
  },
  {
   "cell_type": "code",
   "execution_count": 7,
   "metadata": {},
   "outputs": [
    {
     "data": {
      "text/html": [
       "<div>\n",
       "<table border=\"1\" class=\"dataframe\">\n",
       "  <thead>\n",
       "    <tr style=\"text-align: right;\">\n",
       "      <th></th>\n",
       "      <th>event_name</th>\n",
       "      <th>group_name</th>\n",
       "      <th>urlkeys</th>\n",
       "      <th>all_text</th>\n",
       "      <th>response</th>\n",
       "    </tr>\n",
       "  </thead>\n",
       "  <tbody>\n",
       "    <tr>\n",
       "      <th>0</th>\n",
       "      <td>Nine Famous Graphs and How to Make them Interactive</td>\n",
       "      <td>SF Data Science</td>\n",
       "      <td>[data-science, big-data, data-visualization, data-mining, machine-learning, big-data-analytics, ...</td>\n",
       "      <td>Nine Famous Graphs and How to Make them InteractiveSF Data Sciencedata-science big-data data-vis...</td>\n",
       "      <td>1</td>\n",
       "    </tr>\n",
       "    <tr>\n",
       "      <th>1</th>\n",
       "      <td>Steilacoom Guided Walk 5 or 10km - Traditional Volksmarch</td>\n",
       "      <td>South Sound Walkers Meetup Group</td>\n",
       "      <td>[walkers, volkssport, fitness, outdoors]</td>\n",
       "      <td>Steilacoom Guided Walk 5 or 10km - Traditional VolksmarchSouth Sound Walkers Meetup Groupwalkers...</td>\n",
       "      <td>1</td>\n",
       "    </tr>\n",
       "    <tr>\n",
       "      <th>2</th>\n",
       "      <td>Wednesday Game 6 a side</td>\n",
       "      <td>Football Enthusiasts</td>\n",
       "      <td>[soccer, pickupsoccer, eurofootball, indoor-soccer, coed-soccer, outdoor-soccer, futbol]</td>\n",
       "      <td>Wednesday Game 6 a sideFootball Enthusiastssoccer pickupsoccer eurofootball indoor-soccer coed-s...</td>\n",
       "      <td>1</td>\n",
       "    </tr>\n",
       "    <tr>\n",
       "      <th>3</th>\n",
       "      <td>Back in Rosebank - Bring topics &amp; questions, and enjoy the discussion</td>\n",
       "      <td>Lean Analytics – ORSSA JHB</td>\n",
       "      <td>[machine-learning, predictive-analytics, data-science, data-mining, big-data-analytics, educatio...</td>\n",
       "      <td>Back in Rosebank - Bring topics &amp; questions, and enjoy the discussionLean Analytics – ORSSA JHBm...</td>\n",
       "      <td>0</td>\n",
       "    </tr>\n",
       "    <tr>\n",
       "      <th>4</th>\n",
       "      <td>HackerNest Phoenix May Tech Social</td>\n",
       "      <td>HackerNest Phoenix Tech Socials</td>\n",
       "      <td>[opensource, webdesign, softwaredev, newtech, technology, information-technology, web-developmen...</td>\n",
       "      <td>HackerNest Phoenix May Tech SocialHackerNest Phoenix Tech Socialsopensource webdesign softwarede...</td>\n",
       "      <td>1</td>\n",
       "    </tr>\n",
       "    <tr>\n",
       "      <th>5</th>\n",
       "      <td>Don Robinson State Park</td>\n",
       "      <td>Let's Hike....</td>\n",
       "      <td>[outdoor-adventures, outdoors, hiking, kayaking, adventure, nature-photography, nature-walks, we...</td>\n",
       "      <td>Don Robinson State ParkLet's Hike....outdoor-adventures outdoors hiking kayaking adventure natur...</td>\n",
       "      <td>1</td>\n",
       "    </tr>\n",
       "    <tr>\n",
       "      <th>6</th>\n",
       "      <td>Steilacoom Guided Walk 5 or 10km - Traditional Volksmarch</td>\n",
       "      <td>South Sound Walkers Meetup Group</td>\n",
       "      <td>[walkers, volkssport, fitness, outdoors]</td>\n",
       "      <td>Steilacoom Guided Walk 5 or 10km - Traditional VolksmarchSouth Sound Walkers Meetup Groupwalkers...</td>\n",
       "      <td>1</td>\n",
       "    </tr>\n",
       "    <tr>\n",
       "      <th>7</th>\n",
       "      <td>Free 2 Days Workshop On CAT 2017</td>\n",
       "      <td>Hyderabad IIM Aspirants Meetup</td>\n",
       "      <td>[education, mba-applications, gmat-test-prep-and-tutoring, mba-schools-and-programs, gmat-study-...</td>\n",
       "      <td>Free 2 Days Workshop On CAT 2017Hyderabad IIM Aspirants Meetupeducation mba-applications gmat-te...</td>\n",
       "      <td>1</td>\n",
       "    </tr>\n",
       "    <tr>\n",
       "      <th>8</th>\n",
       "      <td>☆Nihongo Night (FREE for Non-Japanese) in Roppongi / にほんごナイト@六本木☆</td>\n",
       "      <td>Japanese Conversation Friends</td>\n",
       "      <td>[newintown, expatjapanese, socialnetwork, culture-exchange, language, japanese-language, japanes...</td>\n",
       "      <td>☆Nihongo Night (FREE for Non-Japanese) in Roppongi / にほんごナイト@六本木☆Japanese Conversation Friendsne...</td>\n",
       "      <td>1</td>\n",
       "    </tr>\n",
       "    <tr>\n",
       "      <th>9</th>\n",
       "      <td>Business Event:  Speed Networking at Magnolia's Pub</td>\n",
       "      <td>Jacksonville Young Professionals</td>\n",
       "      <td>[diningout, women, outdoors, travel, newintown, fun-times, young-professionals, professional-net...</td>\n",
       "      <td>Business Event:  Speed Networking at Magnolia's PubJacksonville Young Professionalsdiningout wom...</td>\n",
       "      <td>1</td>\n",
       "    </tr>\n",
       "  </tbody>\n",
       "</table>\n",
       "</div>"
      ],
      "text/plain": [
       "                                                              event_name  \\\n",
       "0                    Nine Famous Graphs and How to Make them Interactive   \n",
       "1              Steilacoom Guided Walk 5 or 10km - Traditional Volksmarch   \n",
       "2                                                Wednesday Game 6 a side   \n",
       "3  Back in Rosebank - Bring topics & questions, and enjoy the discussion   \n",
       "4                                     HackerNest Phoenix May Tech Social   \n",
       "5                                                Don Robinson State Park   \n",
       "6              Steilacoom Guided Walk 5 or 10km - Traditional Volksmarch   \n",
       "7                                       Free 2 Days Workshop On CAT 2017   \n",
       "8      ☆Nihongo Night (FREE for Non-Japanese) in Roppongi / にほんごナイト@六本木☆   \n",
       "9                    Business Event:  Speed Networking at Magnolia's Pub   \n",
       "\n",
       "                         group_name  \\\n",
       "0                   SF Data Science   \n",
       "1  South Sound Walkers Meetup Group   \n",
       "2              Football Enthusiasts   \n",
       "3        Lean Analytics – ORSSA JHB   \n",
       "4   HackerNest Phoenix Tech Socials   \n",
       "5                    Let's Hike....   \n",
       "6  South Sound Walkers Meetup Group   \n",
       "7    Hyderabad IIM Aspirants Meetup   \n",
       "8     Japanese Conversation Friends   \n",
       "9  Jacksonville Young Professionals   \n",
       "\n",
       "                                                                                               urlkeys  \\\n",
       "0  [data-science, big-data, data-visualization, data-mining, machine-learning, big-data-analytics, ...   \n",
       "1                                                             [walkers, volkssport, fitness, outdoors]   \n",
       "2             [soccer, pickupsoccer, eurofootball, indoor-soccer, coed-soccer, outdoor-soccer, futbol]   \n",
       "3  [machine-learning, predictive-analytics, data-science, data-mining, big-data-analytics, educatio...   \n",
       "4  [opensource, webdesign, softwaredev, newtech, technology, information-technology, web-developmen...   \n",
       "5  [outdoor-adventures, outdoors, hiking, kayaking, adventure, nature-photography, nature-walks, we...   \n",
       "6                                                             [walkers, volkssport, fitness, outdoors]   \n",
       "7  [education, mba-applications, gmat-test-prep-and-tutoring, mba-schools-and-programs, gmat-study-...   \n",
       "8  [newintown, expatjapanese, socialnetwork, culture-exchange, language, japanese-language, japanes...   \n",
       "9  [diningout, women, outdoors, travel, newintown, fun-times, young-professionals, professional-net...   \n",
       "\n",
       "                                                                                              all_text  \\\n",
       "0  Nine Famous Graphs and How to Make them InteractiveSF Data Sciencedata-science big-data data-vis...   \n",
       "1  Steilacoom Guided Walk 5 or 10km - Traditional VolksmarchSouth Sound Walkers Meetup Groupwalkers...   \n",
       "2  Wednesday Game 6 a sideFootball Enthusiastssoccer pickupsoccer eurofootball indoor-soccer coed-s...   \n",
       "3  Back in Rosebank - Bring topics & questions, and enjoy the discussionLean Analytics – ORSSA JHBm...   \n",
       "4  HackerNest Phoenix May Tech SocialHackerNest Phoenix Tech Socialsopensource webdesign softwarede...   \n",
       "5  Don Robinson State ParkLet's Hike....outdoor-adventures outdoors hiking kayaking adventure natur...   \n",
       "6  Steilacoom Guided Walk 5 or 10km - Traditional VolksmarchSouth Sound Walkers Meetup Groupwalkers...   \n",
       "7  Free 2 Days Workshop On CAT 2017Hyderabad IIM Aspirants Meetupeducation mba-applications gmat-te...   \n",
       "8  ☆Nihongo Night (FREE for Non-Japanese) in Roppongi / にほんごナイト@六本木☆Japanese Conversation Friendsne...   \n",
       "9  Business Event:  Speed Networking at Magnolia's PubJacksonville Young Professionalsdiningout wom...   \n",
       "\n",
       "   response  \n",
       "0         1  \n",
       "1         1  \n",
       "2         1  \n",
       "3         0  \n",
       "4         1  \n",
       "5         1  \n",
       "6         1  \n",
       "7         1  \n",
       "8         1  \n",
       "9         1  "
      ]
     },
     "execution_count": 7,
     "metadata": {},
     "output_type": "execute_result"
    }
   ],
   "source": [
    "# read all raw json files, transform it, and load into dataframe\n",
    "df = raw_json_rsvps.map(transform_rsvp) \\\n",
    "                   .filter(lambda record: record is not None) \\\n",
    "                   .toDF(['event_name','group_name', 'urlkeys', 'all_text', 'response']) \\\n",
    "                   .cache()\n",
    "\n",
    "# convert spark dataframe to pandas\n",
    "pdf = df.toPandas()\n",
    "pdf.head(10)"
   ]
  },
  {
   "cell_type": "code",
   "execution_count": 21,
   "metadata": {
    "scrolled": true
   },
   "outputs": [
    {
     "data": {
      "text/plain": [
       "array([[],\n",
       "       ['10k', 'walkers', 'half-marathon', 'beginners-running', 'running', 'group-fitness-training', 'marathon', '5k', 'how-to-train-for-a-5k-race', 'fitness-for-a-healthy-lifestyle', 'track-workouts-for-men-and-women', 'strength-conditioning', 'strength-training-for-runners', 'clinics-for-running'],\n",
       "       ['10k', 'walkers', 'running', 'half-marathon', 'beginners-running', 'marathon', '5k', 'how-to-train-for-a-5k-race', 'how-to-train-for-a-10-mile-race', 'fitness-for-a-healthy-lifestyle', 'track-workouts-for-men-and-women', 'strength-conditioning', 'clinics-for-running', 'strength-training-for-runners'],\n",
       "       ['20-somethings', '20s', '20s-social', 'social', 'newintown', 'pubs-bars', 'fun-times', 'game-night', 'movie-nights', 'nightlife', 'comedy', 'concerts'],\n",
       "       ['20-somethings', 'young-professionals', 'young-adults', '20s-and-30s', '20s-social', 'newintown', 'nightlife', 'social', '20s-30s-social', 'board-games', '20s', 'couples-20s-and-30s'],\n",
       "       ['20s', 'twenty-somethings', 'young-professionals', 'going-out-in-brooklyn', 'williamsburg-brooklyn', 'brooklyn', 'pubs-bars', 'newintown', 'young-adults', '20s-social', '20s-and-30s', 'bushwick'],\n",
       "       ['20s', 'young-adults', 'nightlife', 'women', 'girls-having-fun', 'girls-night-out', 'girlfriends', 'african-american-women', 'black-women', 'sisterhood', '20s-social', '20s-women', 'bronx', 'bronx-women', 'bronx-women-21-29'],\n",
       "       ['20s-30s-40s-50s-social', 'outdoors', 'livemusic', 'beach', 'diningout', 'pub-trivia', 'social', 'karaoke', 'sightseeing', 'recreational-sports', 'games', 'local-activities', 'bowling-movies-concerts-and-billiards', 'newintown', 'wine-and-food-pairing', 'nightlife'],\n",
       "       ['20s-30s-social', 'diningout', 'newintown', 'nightlife', 'socialnetwork', 'sports', 'social', 'adventure', 'dating-and-relationships', 'pubs-bars', 'singles', 'dinner-and-a-movie', '20s-and-30s'],\n",
       "       ['20s-30s-social', 'fun-times', 'game-night', 'social', 'outdoor-adventures', 'cardgame', 'socialnetwork', 'games', 'singles-20s-30s', 'gaming', 'board-games', 'strategy-games']], dtype=object)"
      ]
     },
     "execution_count": 21,
     "metadata": {},
     "output_type": "execute_result"
    }
   ],
   "source": [
    "# extract unique urlkeys\n",
    "X = np.unique(pdf.urlkeys)\n",
    "X[:10]"
   ]
  },
  {
   "cell_type": "code",
   "execution_count": 23,
   "metadata": {},
   "outputs": [
    {
     "name": "stdout",
     "output_type": "stream",
     "text": [
      "X_train:  (1000, 3056)\n",
      "X_dist (1000, 1000)\n"
     ]
    }
   ],
   "source": [
    "# X_train = pdf.urlkeys[:N_SAMPLES]\n",
    "X_train = vectorizer.fit_transform(X[:N_SAMPLES]).todense()\n",
    "X_dist = DistanceMetric.get_metric('jaccard').pairwise(X_train)\n",
    "print(\"X_train: \", X_train.shape)\n",
    "print(\"X_dist\", X_dist.shape)"
   ]
  },
  {
   "cell_type": "code",
   "execution_count": null,
   "metadata": {
    "collapsed": true
   },
   "outputs": [],
   "source": [
    "# plot urlkey count histogram\n",
    "df = pd.DataFrame(list(map(lambda item: len(item), X)))\n",
    "df.hist()\n",
    "plt.title(\"urlkeys count\")\n",
    "plt.xlabel(\"# of urlkeys\")\n",
    "plt.ylabel(\"count\")"
   ]
  },
  {
   "cell_type": "code",
   "execution_count": 28,
   "metadata": {},
   "outputs": [
    {
     "data": {
      "text/plain": [
       "<matplotlib.text.Text at 0x1219d3550>"
      ]
     },
     "execution_count": 28,
     "metadata": {},
     "output_type": "execute_result"
    },
    {
     "data": {
      "image/png": "[encoded data removed]",
      "text/plain": [
       "<matplotlib.figure.Figure at 0x1218caba8>"
      ]
     },
     "metadata": {},
     "output_type": "display_data"
    }
   ],
   "source": [
    "# plot common urlkey count bar chart\n",
    "sums = np.sum(X_train, axis=0)\n",
    "sums = pd.DataFrame(sums).transpose()\n",
    "sums.columns=['count']\n",
    "sums.sort_values(by=['count'], ascending=False)[:100].plot(kind='bar')\n",
    "plt.title(\"common urlkey count in 1000 unique urlkeys\")\n",
    "plt.xlabel(\"top 100 common urlkey\")\n",
    "plt.ylabel(\"count\")"
   ]
  },
  {
   "cell_type": "code",
   "execution_count": 31,
   "metadata": {},
   "outputs": [
    {
     "name": "stdout",
     "output_type": "stream",
     "text": [
      "time:  0.14736008644104004\n"
     ]
    }
   ],
   "source": [
    "# train agglomerative clustering model\n",
    "model = AgglomerativeClustering(n_clusters = 10,  # number of target clusters, e.g. 10, 100\n",
    "                                connectivity = None, # our problem is not a graph problem (or is it), no connectivity used\n",
    "                                affinity='precomputed', # use jaccard distance metric to compute bit-wise similarity\n",
    "                                linkage='average' # 'ward' is l2 distance, subject to curse\n",
    "                               )\n",
    "t0 = time.time()\n",
    "model.fit(X_dist)\n",
    "elapsed_time = time.time() - t0\n",
    "print(\"time: \",elapsed_time)"
   ]
  },
  {
   "cell_type": "code",
   "execution_count": 32,
   "metadata": {},
   "outputs": [
    {
     "data": {
      "text/plain": [
       "0.01446837734238306"
      ]
     },
     "execution_count": 32,
     "metadata": {},
     "output_type": "execute_result"
    }
   ],
   "source": [
    "# print silhouette_score\n",
    "silhouette_score(X_dist, model.labels_, metric='precomputed')"
   ]
  },
  {
   "cell_type": "code",
   "execution_count": 33,
   "metadata": {},
   "outputs": [
    {
     "name": "stdout",
     "output_type": "stream",
     "text": [
      "time:  0.05285000801086426\n"
     ]
    }
   ],
   "source": [
    "# train DBSCAN model\n",
    "from sklearn.cluster import DBSCAN\n",
    "\n",
    "model = DBSCAN(eps=0.7, min_samples=6, metric='precomputed', n_jobs=-1)\n",
    "t0 = time.time()\n",
    "model.fit(X_dist)\n",
    "elapsed_time = time.time() - t0\n",
    "print(\"time: \",elapsed_time)"
   ]
  },
  {
   "cell_type": "code",
   "execution_count": 34,
   "metadata": {},
   "outputs": [
    {
     "data": {
      "text/plain": [
       "0.085565785085076049"
      ]
     },
     "execution_count": 34,
     "metadata": {},
     "output_type": "execute_result"
    }
   ],
   "source": [
    "silhouette_score(X_dist, model.labels_, metric='precomputed')"
   ]
  },
  {
   "cell_type": "code",
   "execution_count": 35,
   "metadata": {},
   "outputs": [
    {
     "name": "stdout",
     "output_type": "stream",
     "text": [
      "#### cluster -1 with count: 435 ####\n",
      "dict_keys(['fun-times', 'outdoors', 'diningout', 'adventure', 'entrepreneurship', 'social', 'socialnetwork', 'newintown', 'professional-networking', 'self-improvement'])\n",
      "#### cluster 3 with count: 116 ####\n",
      "dict_keys(['fun-times', 'professional-networking', 'diningout', 'adventure', 'entrepreneurship', 'outdoors', 'social', 'socialnetwork', 'newintown', 'self-improvement'])\n",
      "#### cluster 7 with count: 111 ####\n",
      "dict_keys(['fun-times', 'softwaredev', 'diningout', 'nightlife', 'livemusic', 'outdoors', 'social', 'newintown', 'socialnetwork', 'adventure'])\n",
      "#### cluster 0 with count: 80 ####\n",
      "dict_keys(['fun-times', 'outdoors', 'diningout', 'adventure', 'social', 'socialnetwork', 'excercise', 'newintown', 'newtech', 'self-improvement'])\n",
      "#### cluster 4 with count: 46 ####\n",
      "dict_keys(['fitness', 'sports', 'diningout', 'socialnetwork', 'singles', 'outdoors', 'newintown', 'computer-programming', 'fun-times', 'excercise'])\n",
      "#### cluster 8 with count: 45 ####\n",
      "dict_keys(['social', 'travel', 'newintown', 'nightlife', 'adventure', 'hiking', 'outdoors', 'socialnetwork', 'singles', 'fun-times'])\n",
      "#### cluster 6 with count: 29 ####\n",
      "dict_keys(['outdoors', 'recreational-sports', 'diningout', 'socialnetwork', 'hiking', 'social', 'newintown', 'excercise', 'fitness', 'self-improvement'])\n",
      "#### cluster 1 with count: 21 ####\n",
      "dict_keys(['opensource', 'wellness', 'web-development', 'big-data', 'entrepreneurship', 'softwaredev', 'self-improvement', 'fun-times', 'photography-classes', 'energy-healing'])\n",
      "#### cluster 2 with count: 16 ####\n",
      "dict_keys(['dating-and-relationships', 'google-analytics', 'womens-networking', 'diningout', 'social', 'socialnetwork', 'self-exploration', 'newintown', 'professional-singles', 'amazon-web-services'])\n",
      "#### cluster 9 with count: 16 ####\n",
      "dict_keys(['culture-exchange', 'dating-and-relationships', 'singles-30s-50s', 'newintown', 'outdoors', 'singles', 'social', 'socialnetwork', 'fun-times', 'self-improvement'])\n"
     ]
    }
   ],
   "source": [
    "show_cluster_result(model)"
   ]
  },
  {
   "cell_type": "code",
   "execution_count": 36,
   "metadata": {},
   "outputs": [
    {
     "name": "stdout",
     "output_type": "stream",
     "text": [
      "Loading dataset...\n",
      "Extracting tf-idf features for NMF...\n",
      "\n",
      "Topics in NMF model:\n",
      "Topic #0:\n",
      "singles social 30s fun times socialnetwork diningout newintown professional dating\n",
      "Topic #1:\n",
      "business networking startup entrepreneurship marketing professional small strategy referral entrepreneur\n",
      "Topic #2:\n",
      "data analytics big science machine learning visualization predictive mining hadoop\n",
      "Topic #3:\n",
      "language exchange english culture spanish japanese expat international esl french\n",
      "Topic #4:\n",
      "self meditation improvement spiritual empowerment spirituality exploration healing wellness growth\n",
      "Topic #5:\n",
      "programming development web computer technology mobile softwaredev javascript android languages\n",
      "Topic #6:\n",
      "fitness hiking outdoor adventure sports outdoors adventures backpacking walkers excercise\n",
      "Topic #7:\n",
      "soccer pickupsoccer futbol coed indoor eurofootball sports game outdoor pickup\n",
      "Topic #8:\n",
      "games board strategy game cardgame night tabletop party euro gaming\n",
      "Topic #9:\n",
      "dance dancing art gallery partying paris crawl friday nightlife music\n",
      "\n"
     ]
    }
   ],
   "source": [
    "# use NMF to print most common topics\n",
    "\n",
    "from sklearn.feature_extraction.text import TfidfVectorizer, CountVectorizer\n",
    "from sklearn.decomposition import NMF\n",
    "from time import time\n",
    "\n",
    "n_samples, n_features, n_topics, n_top_words = N_SAMPLES, 1000, N_TOPIC, N_KEYWORD\n",
    "\n",
    "def print_top_words(model, feature_names, n_top_words):\n",
    "        for topic_idx, topic in enumerate(model.components_):\n",
    "            print(\"Topic #%d:\" % topic_idx)\n",
    "            print(\" \".join([feature_names[i]\n",
    "                            for i in topic.argsort()[:-n_top_words - 1:-1]]))\n",
    "        print()\n",
    "\n",
    "def nmf_rsvp():\n",
    "    '''\n",
    "    Load the rsvp urlkeys dataset and vectorize it. We use a few heuristics\n",
    "    to filter out useless terms early on: the posts are stripped of headers,\n",
    "    footers and quoted replies, and common English words, words occurring in\n",
    "    only one document or in at least 95% of the documents are removed.\n",
    "    '''\n",
    "    print(\"Loading dataset...\")\n",
    "    data_samples = pdf.all_text[:n_samples]\n",
    "\n",
    "    # Use tf-idf features for NMF.\n",
    "    print(\"Extracting tf-idf features for NMF...\")\n",
    "    tfidf_vectorizer = TfidfVectorizer(max_df=0.95, min_df=2,\n",
    "                                       max_features=n_features,\n",
    "                                       stop_words='english')\n",
    "    tfidf = tfidf_vectorizer.fit_transform(data_samples)\n",
    "    nmf = NMF(n_components=n_topics, random_state=1,\n",
    "              alpha=.1, l1_ratio=.5).fit(tfidf)\n",
    "\n",
    "    print(\"\\nTopics in NMF model:\")\n",
    "    tfidf_feature_names = tfidf_vectorizer.get_feature_names()\n",
    "    print_top_words(nmf, tfidf_feature_names, n_top_words)\n",
    "    \n",
    "\n",
    "nmf_rsvp()"
   ]
  },
  {
   "cell_type": "markdown",
   "metadata": {},
   "source": [
    "### Make a dendrogram plot"
   ]
  },
  {
   "cell_type": "code",
   "execution_count": 37,
   "metadata": {
    "collapsed": true
   },
   "outputs": [],
   "source": [
    "from scipy.cluster.hierarchy import linkage, dendrogram\n",
    "import sys\n",
    "import matplotlib.pyplot as plt\n",
    "%matplotlib inline\n",
    "\n",
    "def jaccard(a,b):\n",
    "    return DistanceMetric.get_metric('jaccard').pairwise(np.vstack([a,b]))[0,1]\n",
    "\n",
    "n_samples = 1000\n",
    "method = 'average'\n",
    "metric = jaccard\n",
    "\n",
    "dist_matrix = get_distance_matrix(X[:n_samples], metric)"
   ]
  },
  {
   "cell_type": "code",
   "execution_count": 38,
   "metadata": {},
   "outputs": [
    {
     "data": {
      "text/plain": [
       "<matplotlib.text.Text at 0x11dfc0b38>"
      ]
     },
     "execution_count": 38,
     "metadata": {},
     "output_type": "execute_result"
    },
    {
     "data": {
      "image/png": "[encoded data removed]",
      "text/plain": [
       "<matplotlib.figure.Figure at 0x11dddca20>"
      ]
     },
     "metadata": {},
     "output_type": "display_data"
    }
   ],
   "source": [
    "from scipy.spatial import distance\n",
    "\n",
    "plt.figure(figsize=(12,10))\n",
    "# get upper triangle items, stores in 1d array\n",
    "ind_x, ind_y = np.triu_indices_from(dist_matrix, 1)\n",
    "distxy = dist_matrix[ind_x, ind_y]\n",
    "# distxy = distance.pdist(X_train, metric = 'euclidean')\n",
    "# R = dendrogram(linkage(distxy, method=method, metric=metric), p=2, truncate_mode='level')\n",
    "R = dendrogram(linkage(distxy, method=method))\n",
    "plt.xlabel('points')\n",
    "plt.ylabel('Height')\n",
    "plt.title(\"Cluster Dendrogram: linkage={} metric={}\".format(method, 'jaccard'))"
   ]
  },
  {
   "cell_type": "code",
   "execution_count": 39,
   "metadata": {},
   "outputs": [
    {
     "name": "stderr",
     "output_type": "stream",
     "text": [
      "/Users/tristan/anaconda3/lib/python3.5/site-packages/ipykernel_launcher.py:3: VisibleDeprecationWarning: boolean index did not match indexed array along dimension 0; dimension is 1000 but corresponding boolean dimension is 999\n",
      "  This is separate from the ipykernel package so we can avoid doing imports until\n"
     ]
    },
    {
     "data": {
      "text/plain": [
       "177    [opensource, python-web-development, functional-programming-in-python, functional-programming, a...\n",
       "936    [beppegrillo, intellectual-discussion, liberta-di-informazione, democrazia-partecipativa, cittad...\n",
       "976                                  [hiking, outdoors, outdoor-adventures, water-sports, mountain-biking]\n",
       "978    [spanish, digcam, photo, photography-classes, portrait-photography, espanol, photo-walks, native...\n",
       "322    [spanish, italian, french, german, portuguese, russian, arabic, exchangestud, language, japanese...\n",
       "6                                                                 [walkers, volkssport, fitness, outdoors]\n",
       "843    [gay, Lesbian, nightlife, lgbtfriends, outdoors, adventure, gay-and-lesbian-friends, outdoor-adv...\n",
       "597    [filmind, screenwriters, indiefilm, acting, digcam, film, film-and-video-production, film-makers...\n",
       "504    [art-galleries, creative, manga, sketching, draw, art, free-hand-drawing, drawing-for-beginners,...\n",
       "861    [classics, intellectual-discussion, book-swap, bookclub, self-improvement, socialnetwork, readin...\n",
       "643    [softwaredev, newtech, mobile-technology, mobile-development, augmented-reality, virtual-reality...\n",
       "693    [meditation, spirituality, energy-healing, earth-based-spirituality, native-american-spiritualit...\n",
       "750    [social, music, fun-times, dancing, fun-and-laughter, dance-lessons, pubs-bars, social-dancing, ...\n",
       "709    [wellness, fitness, professional-networking, singles, newintown, self-exploration, diningout, da...\n",
       "757    [active-parents, parents-meeting-parents, single-parties, toddler, parents, sahp, playgroup, sah...\n",
       "756    [webdesign, softwaredev, newtech, mobile-technology, javascript, web-development, computer-progr...\n",
       "761    [professional-networking, data-analytics, technology-startups, newtech, big-data, internet-of-th...\n",
       "749    [socialnetwork, social, diningout, esl, wine, hiking, newintown, language, outdoors, fun-times, ...\n",
       "970    [healthy-living, wellness, fitness, outdoors, walking-for-health, speed-walking, walking-buddies...\n",
       "137    [community-service, women-over-40, strictly-ladies-only, socialnetwork, self-improvement, charit...\n",
       "215    [startup-businesses, user-experience, digital-nomads, night-owls, entrepreneurship, digital-mark...\n",
       "157                            [music, singers, choir, group-singing, non-traditional-choir, womens-choir]\n",
       "119    [data-visualization, hadoop, big-data-analytics, statistical-computing, big-data, machine-learni...\n",
       "138    [robotics, prodev, proengineer, newtech, women-entrepreneurs, professional-networking, software-...\n",
       "170    [newintown, recreational-sports, social, wellness, outdoor-fitness, singles, cricket, sports, pl...\n",
       "171                                                                                 [pickupsoccer, soccer]\n",
       "168    [dancing, adventure, camping, live-theatre-musical-theatre, fun-times, hiking-biking-outdoors-so...\n",
       "172                                                                  [business-strategy, online-marketing]\n",
       "146    [c-net, asp-net-mvc, csharp, asp-net, computer-programming, web-development, mobile-development,...\n",
       "147    [cashflow, cashflow-game, financial-planning, money, professional-networking, real-estate-invest...\n",
       "                                                      ...                                                 \n",
       "657    [golfing-the-good-the-bad-and-the-water-ball, golfing, just-fore-fun-golf, golf-for-beginners, v...\n",
       "656    [excercise, half-marathon, wellington, trail-running, sports, marathon, beginners-running, outdo...\n",
       "100    [self-improvement, quantified-self, nutrition, wellness, the-quantified-self, qsmap, self-tracki...\n",
       "101    [small-business-owners, prodev, business-entrepreneur-networking, entrepreneurship, referral-mar...\n",
       "482                                                  [fitness, group-fitness-training, workout, excercise]\n",
       "477    [executive-coaching, small-business-marketing-strategy, networkmarket, startup-businesses, entre...\n",
       "417    [solo-single-travelers-looking-for-group-to-travel, singles-who-love-to-travel-travel, weekend-g...\n",
       "478    [data-science, opensource, predictive-analytics, big-data, ai, data-analytics, natural-language-...\n",
       "383    [beppegrillo, localpolitics, rifiuti-zero, ambiente, energie-rinnovabili, democrazia-partecipati...\n",
       "426    [opensource, cloud-computing, virtualization, high-scalability-computing, network-engineering, p...\n",
       "830    [computer-programming, webstandards, webdesign, graphicdesign, newmedia, newtech, freelance, cow...\n",
       "424    [newintown, nightlife, social, diningout, socialnetwork, living-abroad, travel, boston-artists, ...\n",
       "490    [brazilian-portuguese, latino-culture, meet-new-friends-make-new-friends-anyone-similar, french,...\n",
       "473    [pokemon-go, diningout, travel, exchangestud, nightlife, expat, livemusic, social, fun-times, ad...\n",
       "466    [pokemon-go, diningout, travel, exchangestud, nightlife, expat, livemusic, social, fun-times, ad...\n",
       "423    [newintown, nightlife, social, diningout, socialnetwork, living-abroad, travel, boston-artists, ...\n",
       "419    [geek, geeks-nerds, movies, social, film, conversation, reading, movie-nights, creative, game-ni...\n",
       "474    [consultant, softwaredev, newtech, web, business-strategy, computer-programming, entrepreneurshi...\n",
       "463                                  [humanrights, grassrootsprog, movement, activism, political-activism]\n",
       "487    [livemusic, partying, dancing, culture-exchange, fun-times, exchangestud, dating-and-relationshi...\n",
       "406    [groupart, boston-artists, cultural-activities, fine-arts, sketching, painting, draw, creative, ...\n",
       "444                                                                      [rockclimbing, adventure, hiking]\n",
       "489    [project-management-professional, agile-project-management, lean-project-management, project-man...\n",
       "492                   [museum, contemporary-art, fine-arts, art-galleries, art-museums, museums-galleries]\n",
       "386    [wilderness-hiking, hiking-backpacking, city-walks, mountaineering-or-alpine, daytrips-to-the-mo...\n",
       "470    [socialnetwork, livemusic, expatfrench, social, singles, canadian, expat, diningout, nightlife, ...\n",
       "831    [group-fitness-training, adventure, fitness-boot-camp, outdoor-fitness, sports-and-socials, recr...\n",
       "405    [hiking, diningout, newintown, nightlife, outdoors, fun-times, young-professionals, 20s, twenty-...\n",
       "464    [ruby, softwaredev, web-development, computer-programming, ruby-on-rails, installing-ruby-on-rails]\n",
       "655    [meditation, spiritual-awakening, self-exploration, consciousness, diy, technology, self-empower...\n",
       "Name: urlkeys, dtype: object"
      ]
     },
     "execution_count": 39,
     "metadata": {},
     "output_type": "execute_result"
    }
   ],
   "source": [
    "color_list = np.array(R['color_list'])\n",
    "leaves = np.array(R['leaves'])\n",
    "pdf.urlkeys[leaves[color_list=='m']]"
   ]
  },
  {
   "cell_type": "code",
   "execution_count": null,
   "metadata": {
    "collapsed": true
   },
   "outputs": [],
   "source": []
  }
 ],
 "metadata": {
  "kernelspec": {
   "display_name": "Python 3",
   "language": "python",
   "name": "python3"
  },
  "language_info": {
   "codemirror_mode": {
    "name": "ipython",
    "version": 3
   },
   "file_extension": ".py",
   "mimetype": "text/x-python",
   "name": "python",
   "nbconvert_exporter": "python",
   "pygments_lexer": "ipython3",
   "version": "3.5.3"
  }
 },
 "nbformat": 4,
 "nbformat_minor": 2
}
