{
 "cells": [
  {
   "cell_type": "code",
   "execution_count": 6,
   "metadata": {
    "collapsed": true
   },
   "outputs": [],
   "source": [
    "import numpy as np\n",
    "import json"
   ]
  },
  {
   "cell_type": "code",
   "execution_count": 3,
   "metadata": {
    "collapsed": true
   },
   "outputs": [],
   "source": [
    "rdd1 = sc.textFile(\"data/test-data\").cache()"
   ]
  },
  {
   "cell_type": "code",
   "execution_count": 9,
   "metadata": {
    "collapsed": true
   },
   "outputs": [],
   "source": [
    "rdd2 = rdd1.map(json.loads)"
   ]
  },
  {
   "cell_type": "code",
   "execution_count": 10,
   "metadata": {},
   "outputs": [
    {
     "data": {
      "text/plain": [
       "{'event': {'event_id': '239009321',\n",
       "  'event_name': 'Hump-Day Hike ',\n",
       "  'event_url': 'https://www.meetup.com/Rancocas-State-Park-Hikers/events/239009321/',\n",
       "  'time': 1492032600000},\n",
       " 'group': {'group_city': 'Mount Laurel',\n",
       "  'group_country': 'us',\n",
       "  'group_id': 23056296,\n",
       "  'group_lat': 39.95,\n",
       "  'group_lon': -74.92,\n",
       "  'group_name': 'Rancocas State Park Hikers',\n",
       "  'group_state': 'NJ',\n",
       "  'group_topics': [{'topic_name': 'Fitness', 'urlkey': 'fitness'},\n",
       "   {'topic_name': 'Hiking', 'urlkey': 'hiking'},\n",
       "   {'topic_name': 'Walking', 'urlkey': 'walkers'},\n",
       "   {'topic_name': 'Wellness', 'urlkey': 'wellness'},\n",
       "   {'topic_name': 'Outdoors', 'urlkey': 'outdoors'},\n",
       "   {'topic_name': 'Outdoor  Fitness', 'urlkey': 'outdoor-fitness'},\n",
       "   {'topic_name': 'Weekday hikes', 'urlkey': 'weekday-hikes'},\n",
       "   {'topic_name': 'Healthy Living', 'urlkey': 'healthy-living'},\n",
       "   {'topic_name': 'Adventure Hiking', 'urlkey': 'adventure-hiking'},\n",
       "   {'topic_name': 'Hiking & Trekking Buddies',\n",
       "    'urlkey': 'hiking-trekking-buddies'},\n",
       "   {'topic_name': 'Hiking Trails', 'urlkey': 'hiking-trails'},\n",
       "   {'topic_name': 'Hiking and Treking', 'urlkey': 'hiking-and-treking'},\n",
       "   {'topic_name': 'Hiking, All Levels Welcome',\n",
       "    'urlkey': 'hiking-all-levels-welcome'},\n",
       "   {'topic_name': 'Wilderness Hikes', 'urlkey': 'wilderness-hikes'},\n",
       "   {'topic_name': 'Trail Hiking', 'urlkey': 'trail-hiking'}],\n",
       "  'group_urlname': 'Rancocas-State-Park-Hikers'},\n",
       " 'guests': 0,\n",
       " 'member': {'member_id': 4298910,\n",
       "  'member_name': 'Donna M.',\n",
       "  'photo': 'https://secure.meetupstatic.com/photos/member/d/9/6/f/thumb_265555663.jpeg'},\n",
       " 'mtime': 1491935863580,\n",
       " 'response': 'no',\n",
       " 'rsvp_id': 1662886325,\n",
       " 'venue': {'lat': 40.003376,\n",
       "  'lon': -74.82088,\n",
       "  'venue_id': 25142145,\n",
       "  'venue_name': 'Rancocas Nature Center'},\n",
       " 'visibility': 'public'}"
      ]
     },
     "execution_count": 10,
     "metadata": {},
     "output_type": "execute_result"
    }
   ],
   "source": [
    "rdd2.first()"
   ]
  },
  {
   "cell_type": "markdown",
   "metadata": {
    "collapsed": true
   },
   "source": [
    "![](rsvp-dataflow.png)"
   ]
  },
  {
   "cell_type": "code",
   "execution_count": null,
   "metadata": {
    "collapsed": true
   },
   "outputs": [],
   "source": []
  }
 ],
 "metadata": {
  "kernelspec": {
   "display_name": "Python 3",
   "language": "python",
   "name": "python3"
  },
  "language_info": {
   "codemirror_mode": {
    "name": "ipython",
    "version": 3
   },
   "file_extension": ".py",
   "mimetype": "text/x-python",
   "name": "python",
   "nbconvert_exporter": "python",
   "pygments_lexer": "ipython3",
   "version": "3.5.3"
  }
 },
 "nbformat": 4,
 "nbformat_minor": 2
}
